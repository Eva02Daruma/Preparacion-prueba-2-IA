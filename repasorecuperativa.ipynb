{
 "cells": [
  {
   "cell_type": "code",
   "execution_count": 72,
   "metadata": {},
   "outputs": [],
   "source": [
    "import os\n",
    "from numpy.random import choice\n",
    "import numpy as np\n",
    "import pandas as pd\n",
    "import json\n",
    "from sklearn.decomposition import PCA\n",
    "from sklearn.pipeline import make_pipeline\n",
    "from sklearn.preprocessing import StandardScaler\n",
    "from sklearn.cluster import KMeans"
   ]
  },
  {
   "cell_type": "code",
   "execution_count": 53,
   "metadata": {},
   "outputs": [
    {
     "name": "stdout",
     "output_type": "stream",
     "text": [
      "/Users/cotearaya/Documents/Inteligencia Artificial/Preparacion prueba 2\n"
     ]
    }
   ],
   "source": [
    "!pwd\n"
   ]
  },
  {
   "cell_type": "code",
   "execution_count": 54,
   "metadata": {},
   "outputs": [
    {
     "name": "stdout",
     "output_type": "stream",
     "text": [
      "['379.json', '396.json', '115.json', '545.json', '400.json', '284.json', '512.json', '142.json', '457.json', '292.json', '338.json', '154.json', '504.json', '441.json', '380.json', '553.json', '103.json', '416.json', '251.json', '314.json', '197.json', '528.json', '482.json', '178.json', '20.json', '206.json', '343.json', '98.json', '77.json', '210.json', '355.json', '139.json', '61.json', '247.json', '302.json', '181.json', '36.json', '494.json', '549.json', '119.json', '41.json', '375.json', '230.json', '16.json', '288.json', '322.json', '267.json', '508.json', '158.json', '334.json', '271.json', '57.json', '363.json', '226.json', '461.json', '174.json', '524.json', '318.json', '94.json', '436.json', '123.json', '420.json', '82.json', '6.json', '135.json', '565.json', '359.json', '477.json', '532.json', '498.json', '162.json', '476.json', '533.json', '499.json', '163.json', '358.json', '421.json', '7.json', '83.json', '134.json', '564.json', '95.json', '437.json', '122.json', '319.json', '460.json', '175.json', '525.json', '362.json', '227.json', '56.json', '335.json', '270.json', '509.json', '159.json', '289.json', '323.json', '266.json', '17.json', '374.json', '231.json', '548.json', '118.json', '40.json', '180.json', '37.json', '495.json', '246.json', '303.json', '568.json', '138.json', '60.json', '211.json', '354.json', '99.json', '76.json', '207.json', '342.json', '196.json', '529.json', '483.json', '179.json', '21.json', '250.json', '315.json', '552.json', '102.json', '417.json', '381.json', '155.json', '505.json', '440.json', '293.json', '339.json', '513.json', '143.json', '456.json', '285.json', '114.json', '544.json', '401.json', '378.json', '397.json', '47.json', '373.json', '236.json', '148.json', '518.json', '10.json', '324.json', '261.json', '332.json', '298.json', '277.json', '109.json', '559.json', '51.json', '365.json', '220.json', '467.json', '488.json', '172.json', '522.json', '430.json', '92.json', '125.json', '349.json', '84.json', '0.json', '426.json', '133.json', '563.json', '471.json', '534.json', '164.json', '308.json', '390.json', '113.json', '543.json', '406.json', '328.json', '282.json', '514.json', '144.json', '451.json', '294.json', '152.json', '502.json', '447.json', '369.json', '386.json', '555.json', '105.json', '410.json', '257.json', '312.json', '191.json', '26.json', '484.json', '200.json', '345.json', '129.json', '71.json', '216.json', '353.json', '88.json', '67.json', '241.json', '304.json', '187.json', '492.json', '168.json', '538.json', '30.json', '186.json', '493.json', '169.json', '539.json', '31.json', '240.json', '305.json', '89.json', '66.json', '217.json', '352.json', '128.json', '70.json', '201.json', '344.json', '190.json', '27.json', '485.json', '256.json', '313.json', '554.json', '104.json', '411.json', '368.json', '387.json', '153.json', '503.json', '446.json', '295.json', '515.json', '145.json', '450.json', '329.json', '283.json', '112.json', '542.json', '407.json', '391.json', '309.json', '470.json', '535.json', '165.json', '1.json', '85.json', '427.json', '132.json', '562.json', '348.json', '431.json', '93.json', '124.json', '466.json', '489.json', '173.json', '523.json', '364.json', '221.json', '108.json', '558.json', '50.json', '333.json', '299.json', '276.json', '325.json', '260.json', '149.json', '519.json', '11.json', '372.json', '237.json', '46.json', '536.json', '166.json', '189.json', '473.json', '218.json', '69.json', '131.json', '561.json', '424.json', '2.json', '86.json', '127.json', '90.json', '432.json', '259.json', '28.json', '170.json', '520.json', '465.json', '388.json', '222.json', '367.json', '53.json', '275.json', '330.json', '449.json', '263.json', '326.json', '12.json', '234.json', '371.json', '408.json', '45.json', '32.json', '490.json', '185.json', '306.json', '243.json', '65.json', '428.json', '351.json', '214.json', '73.json', '347.json', '202.json', '486.json', '24.json', '193.json', '469.json', '310.json', '255.json', '412.json', '557.json', '107.json', '384.json', '445.json', '150.json', '500.json', '279.json', '296.json', '453.json', '516.json', '146.json', '280.json', '404.json', '49.json', '111.json', '541.json', '392.json', '238.json', '393.json', '239.json', '405.json', '48.json', '110.json', '540.json', '281.json', '452.json', '517.json', '147.json', '278.json', '297.json', '444.json', '151.json', '501.json', '385.json', '413.json', '556.json', '106.json', '311.json', '254.json', '487.json', '25.json', '192.json', '468.json', '346.json', '203.json', '72.json', '350.json', '215.json', '64.json', '429.json', '307.json', '242.json', '33.json', '491.json', '184.json', '409.json', '44.json', '235.json', '370.json', '13.json', '262.json', '327.json', '448.json', '274.json', '331.json', '52.json', '389.json', '223.json', '366.json', '29.json', '171.json', '521.json', '464.json', '258.json', '126.json', '91.json', '433.json', '68.json', '130.json', '560.json', '425.json', '87.json', '3.json', '219.json', '537.json', '167.json', '188.json', '472.json', '496.json', '34.json', '183.json', '479.json', '300.json', '245.json', '63.json', '.ipynb_checkpoints', '8.json', '357.json', '212.json', '75.json', '438.json', '341.json', '204.json', '22.json', '480.json', '195.json', '316.json', '253.json', '414.json', '59.json', '551.json', '101.json', '228.json', '382.json', '443.json', '156.json', '506.json', '290.json', '455.json', '18.json', '510.json', '140.json', '269.json', '286.json', '402.json', '117.json', '547.json', '394.json', '249.json', '38.json', '530.json', '160.json', '475.json', '137.json', '567.json', '4.json', '80.json', '422.json', '208.json', '79.json', '121.json', '434.json', '96.json', '176.json', '526.json', '199.json', '463.json', '224.json', '361.json', '418.json', '55.json', '273.json', '336.json', '265.json', '320.json', '459.json', '14.json', '232.json', '398.json', '377.json', '43.json', '42.json', '233.json', '399.json', '376.json', '458.json', '15.json', '264.json', '321.json', '272.json', '337.json', '419.json', '54.json', '225.json', '360.json', '177.json', '527.json', '198.json', '462.json', '78.json', '120.json', '435.json', '97.json', '209.json', '136.json', '566.json', '81.json', '5.json', '423.json', '39.json', '531.json', '161.json', '474.json', '248.json', '395.json', '403.json', '116.json', '546.json', '268.json', '287.json', '454.json', '19.json', '511.json', '141.json', '291.json', '442.json', '157.json', '507.json', '229.json', '383.json', '415.json', '58.json', '550.json', '100.json', '317.json', '252.json', '23.json', '481.json', '194.json', '340.json', '205.json', '74.json', '439.json', '356.json', '213.json', '62.json', '9.json', '301.json', '244.json', '497.json', '35.json', '182.json', '478.json']\n"
     ]
    }
   ],
   "source": [
    "datapath = 'data_de _repasoJson'\n",
    "print(os.listdir(datapath))\n",
    "nomarchivos = os.listdir(datapath)\n",
    "nomarchivo = choice(nomarchivos)\n",
    "ruta_archivo = os.path.join(datapath , nomarchivo)"
   ]
  },
  {
   "cell_type": "code",
   "execution_count": 55,
   "metadata": {},
   "outputs": [
    {
     "name": "stdout",
     "output_type": "stream",
     "text": [
      "{\n",
      "    \"mean radius\": 12.21,\n",
      "    \"mean texture\": 14.09,\n",
      "    \"mean perimeter\": 78.78,\n",
      "    \"mean area\": 462.0,\n",
      "    \"mean smoothness\": 0.08108,\n",
      "    \"mean compactness\": 0.07823,\n",
      "    \"mean concavity\": 0.06839,\n",
      "    \"mean concave points\": 0.02534,\n",
      "    \"mean symmetry\": 0.1646,\n",
      "    \"mean fractal dimension\": 0.06154,\n",
      "    \"radius error\": 0.2666,\n",
      "    \"texture error\": 0.8309,\n",
      "    \"perimeter error\": 2.097,\n",
      "    \"area error\": 19.96,\n",
      "    \"smoothness error\": 0.004405,\n",
      "    \"compactness error\": 0.03026,\n",
      "    \"concavity error\": 0.04344,\n",
      "    \"concave points error\": 0.01087,\n",
      "    \"symmetry error\": 0.01921,\n",
      "    \"fractal dimension error\": 0.004622,\n",
      "    \"worst radius\": 13.13,\n",
      "    \"worst texture\": 19.29,\n",
      "    \"worst perimeter\": 87.65,\n",
      "    \"worst area\": 529.9,\n",
      "    \"worst smoothness\": 0.1026,\n",
      "    \"worst compactness\": 0.2431,\n",
      "    \"worst concavity\": 0.3076,\n",
      "    \"worst concave points\": 0.0914,\n",
      "    \"worst symmetry\": 0.2677,\n",
      "    \"worst fractal dimension\": 0.08824\n",
      "}\n"
     ]
    }
   ],
   "source": [
    "with open(ruta_archivo, 'r') as f:\n",
    "    lines = f.read()\n",
    "    print(lines)\n",
    "    f.close()"
   ]
  },
  {
   "cell_type": "code",
   "execution_count": 56,
   "metadata": {},
   "outputs": [
    {
     "name": "stdout",
     "output_type": "stream",
     "text": [
      "{'mean radius': 12.21, 'mean texture': 14.09, 'mean perimeter': 78.78, 'mean area': 462.0, 'mean smoothness': 0.08108, 'mean compactness': 0.07823, 'mean concavity': 0.06839, 'mean concave points': 0.02534, 'mean symmetry': 0.1646, 'mean fractal dimension': 0.06154, 'radius error': 0.2666, 'texture error': 0.8309, 'perimeter error': 2.097, 'area error': 19.96, 'smoothness error': 0.004405, 'compactness error': 0.03026, 'concavity error': 0.04344, 'concave points error': 0.01087, 'symmetry error': 0.01921, 'fractal dimension error': 0.004622, 'worst radius': 13.13, 'worst texture': 19.29, 'worst perimeter': 87.65, 'worst area': 529.9, 'worst smoothness': 0.1026, 'worst compactness': 0.2431, 'worst concavity': 0.3076, 'worst concave points': 0.0914, 'worst symmetry': 0.2677, 'worst fractal dimension': 0.08824}\n"
     ]
    }
   ],
   "source": [
    "with open(ruta_archivo, 'r') as f:\n",
    "    data = json.load(f)\n",
    "    #En caso que una linea este dañada o mal escrita , se sobrescribe con un replace\n",
    "    print(data)\n",
    "    f.close()"
   ]
  },
  {
   "cell_type": "code",
   "execution_count": 57,
   "metadata": {},
   "outputs": [
    {
     "name": "stdout",
     "output_type": "stream",
     "text": [
      "  % Total    % Received % Xferd  Average Speed   Time    Time     Time  Current\n",
      "                                 Dload  Upload   Total   Spent    Left  Speed\n",
      "100 19021  100 19021    0     0  11324      0  0:00:01  0:00:01 --:--:-- 11396\n"
     ]
    }
   ],
   "source": [
    "!curl -O https://datahub.io/machine-learning/breast-cancer/r/breast-cancer.csv"
   ]
  },
  {
   "cell_type": "code",
   "execution_count": 58,
   "metadata": {},
   "outputs": [
    {
     "data": {
      "text/html": [
       "<div>\n",
       "<style scoped>\n",
       "    .dataframe tbody tr th:only-of-type {\n",
       "        vertical-align: middle;\n",
       "    }\n",
       "\n",
       "    .dataframe tbody tr th {\n",
       "        vertical-align: top;\n",
       "    }\n",
       "\n",
       "    .dataframe thead th {\n",
       "        text-align: right;\n",
       "    }\n",
       "</style>\n",
       "<table border=\"1\" class=\"dataframe\">\n",
       "  <thead>\n",
       "    <tr style=\"text-align: right;\">\n",
       "      <th></th>\n",
       "      <th>age</th>\n",
       "      <th>menopause</th>\n",
       "      <th>tumor-size</th>\n",
       "      <th>inv-nodes</th>\n",
       "      <th>node-caps</th>\n",
       "      <th>deg-malig</th>\n",
       "      <th>breast</th>\n",
       "      <th>breast-quad</th>\n",
       "      <th>irradiat</th>\n",
       "      <th>Class</th>\n",
       "    </tr>\n",
       "  </thead>\n",
       "  <tbody>\n",
       "    <tr>\n",
       "      <th>0</th>\n",
       "      <td>40-49</td>\n",
       "      <td>premeno</td>\n",
       "      <td>15-19</td>\n",
       "      <td>0-2</td>\n",
       "      <td>yes</td>\n",
       "      <td>3</td>\n",
       "      <td>right</td>\n",
       "      <td>left_up</td>\n",
       "      <td>no</td>\n",
       "      <td>recurrence-events</td>\n",
       "    </tr>\n",
       "    <tr>\n",
       "      <th>1</th>\n",
       "      <td>50-59</td>\n",
       "      <td>ge40</td>\n",
       "      <td>15-19</td>\n",
       "      <td>0-2</td>\n",
       "      <td>no</td>\n",
       "      <td>1</td>\n",
       "      <td>right</td>\n",
       "      <td>central</td>\n",
       "      <td>no</td>\n",
       "      <td>no-recurrence-events</td>\n",
       "    </tr>\n",
       "    <tr>\n",
       "      <th>2</th>\n",
       "      <td>50-59</td>\n",
       "      <td>ge40</td>\n",
       "      <td>35-39</td>\n",
       "      <td>0-2</td>\n",
       "      <td>no</td>\n",
       "      <td>2</td>\n",
       "      <td>left</td>\n",
       "      <td>left_low</td>\n",
       "      <td>no</td>\n",
       "      <td>recurrence-events</td>\n",
       "    </tr>\n",
       "    <tr>\n",
       "      <th>3</th>\n",
       "      <td>40-49</td>\n",
       "      <td>premeno</td>\n",
       "      <td>35-39</td>\n",
       "      <td>0-2</td>\n",
       "      <td>yes</td>\n",
       "      <td>3</td>\n",
       "      <td>right</td>\n",
       "      <td>left_low</td>\n",
       "      <td>yes</td>\n",
       "      <td>no-recurrence-events</td>\n",
       "    </tr>\n",
       "    <tr>\n",
       "      <th>4</th>\n",
       "      <td>40-49</td>\n",
       "      <td>premeno</td>\n",
       "      <td>30-34</td>\n",
       "      <td>3-5</td>\n",
       "      <td>yes</td>\n",
       "      <td>2</td>\n",
       "      <td>left</td>\n",
       "      <td>right_up</td>\n",
       "      <td>no</td>\n",
       "      <td>recurrence-events</td>\n",
       "    </tr>\n",
       "  </tbody>\n",
       "</table>\n",
       "</div>"
      ],
      "text/plain": [
       "     age menopause tumor-size inv-nodes node-caps  deg-malig breast  \\\n",
       "0  40-49   premeno      15-19       0-2       yes          3  right   \n",
       "1  50-59      ge40      15-19       0-2        no          1  right   \n",
       "2  50-59      ge40      35-39       0-2        no          2   left   \n",
       "3  40-49   premeno      35-39       0-2       yes          3  right   \n",
       "4  40-49   premeno      30-34       3-5       yes          2   left   \n",
       "\n",
       "  breast-quad irradiat                 Class  \n",
       "0     left_up       no     recurrence-events  \n",
       "1     central       no  no-recurrence-events  \n",
       "2    left_low       no     recurrence-events  \n",
       "3    left_low      yes  no-recurrence-events  \n",
       "4    right_up       no     recurrence-events  "
      ]
     },
     "execution_count": 58,
     "metadata": {},
     "output_type": "execute_result"
    }
   ],
   "source": [
    "dataset = pd.read_csv('breast-cancer.csv')\n",
    "\n",
    "dataset.head()"
   ]
  },
  {
   "cell_type": "code",
   "execution_count": 59,
   "metadata": {},
   "outputs": [
    {
     "name": "stdout",
     "output_type": "stream",
     "text": [
      "<class 'pandas.core.frame.DataFrame'>\n",
      "RangeIndex: 286 entries, 0 to 285\n",
      "Data columns (total 10 columns):\n",
      " #   Column       Non-Null Count  Dtype \n",
      "---  ------       --------------  ----- \n",
      " 0   age          286 non-null    object\n",
      " 1   menopause    286 non-null    object\n",
      " 2   tumor-size   286 non-null    object\n",
      " 3   inv-nodes    286 non-null    object\n",
      " 4   node-caps    278 non-null    object\n",
      " 5   deg-malig    286 non-null    int64 \n",
      " 6   breast       286 non-null    object\n",
      " 7   breast-quad  285 non-null    object\n",
      " 8   irradiat     286 non-null    object\n",
      " 9   Class        286 non-null    object\n",
      "dtypes: int64(1), object(9)\n",
      "memory usage: 22.5+ KB\n"
     ]
    }
   ],
   "source": [
    "dataset.info()"
   ]
  },
  {
   "cell_type": "markdown",
   "metadata": {},
   "source": [
    "los datos actuales no pueden ser accedidos para utilizarlos ya que e; '-' esta molestando a la lectura , lo que se debe hacer es crear una funcion para separarlo y reemplazarlo\n"
   ]
  },
  {
   "cell_type": "code",
   "execution_count": 60,
   "metadata": {},
   "outputs": [],
   "source": [
    "def repararcol(x: str) -> float:\n",
    "    numero = x.split('-')\n",
    "    #crear una lista nueva de los datos nuevos que reempl a los antiguos\n",
    "    nuevos_num = []\n",
    "    #recorrer los numeros que en el str que se quiere reemplazar\n",
    "    for n in numero:\n",
    "        nuevos_num.append(float(n))\n",
    "    return np.mean(nuevos_num)"
   ]
  },
  {
   "cell_type": "code",
   "execution_count": 61,
   "metadata": {},
   "outputs": [
    {
     "data": {
      "text/plain": [
       "0      44.5\n",
       "1      54.5\n",
       "2      54.5\n",
       "3      44.5\n",
       "4      44.5\n",
       "       ... \n",
       "281    54.5\n",
       "282    54.5\n",
       "283    34.5\n",
       "284    54.5\n",
       "285    54.5\n",
       "Name: age, Length: 286, dtype: float64"
      ]
     },
     "execution_count": 61,
     "metadata": {},
     "output_type": "execute_result"
    }
   ],
   "source": [
    "dataset['age'].apply(repararcol)"
   ]
  },
  {
   "cell_type": "code",
   "execution_count": 62,
   "metadata": {},
   "outputs": [
    {
     "data": {
      "text/html": [
       "<div>\n",
       "<style scoped>\n",
       "    .dataframe tbody tr th:only-of-type {\n",
       "        vertical-align: middle;\n",
       "    }\n",
       "\n",
       "    .dataframe tbody tr th {\n",
       "        vertical-align: top;\n",
       "    }\n",
       "\n",
       "    .dataframe thead th {\n",
       "        text-align: right;\n",
       "    }\n",
       "</style>\n",
       "<table border=\"1\" class=\"dataframe\">\n",
       "  <thead>\n",
       "    <tr style=\"text-align: right;\">\n",
       "      <th></th>\n",
       "      <th>age</th>\n",
       "      <th>menopause</th>\n",
       "      <th>tumor-size</th>\n",
       "      <th>inv-nodes</th>\n",
       "      <th>node-caps</th>\n",
       "      <th>deg-malig</th>\n",
       "      <th>breast</th>\n",
       "      <th>breast-quad</th>\n",
       "      <th>irradiat</th>\n",
       "      <th>Class</th>\n",
       "    </tr>\n",
       "  </thead>\n",
       "  <tbody>\n",
       "    <tr>\n",
       "      <th>0</th>\n",
       "      <td>44.5</td>\n",
       "      <td>premeno</td>\n",
       "      <td>17.0</td>\n",
       "      <td>1.0</td>\n",
       "      <td>yes</td>\n",
       "      <td>3</td>\n",
       "      <td>right</td>\n",
       "      <td>left_up</td>\n",
       "      <td>no</td>\n",
       "      <td>recurrence-events</td>\n",
       "    </tr>\n",
       "    <tr>\n",
       "      <th>1</th>\n",
       "      <td>54.5</td>\n",
       "      <td>ge40</td>\n",
       "      <td>17.0</td>\n",
       "      <td>1.0</td>\n",
       "      <td>no</td>\n",
       "      <td>1</td>\n",
       "      <td>right</td>\n",
       "      <td>central</td>\n",
       "      <td>no</td>\n",
       "      <td>no-recurrence-events</td>\n",
       "    </tr>\n",
       "    <tr>\n",
       "      <th>2</th>\n",
       "      <td>54.5</td>\n",
       "      <td>ge40</td>\n",
       "      <td>37.0</td>\n",
       "      <td>1.0</td>\n",
       "      <td>no</td>\n",
       "      <td>2</td>\n",
       "      <td>left</td>\n",
       "      <td>left_low</td>\n",
       "      <td>no</td>\n",
       "      <td>recurrence-events</td>\n",
       "    </tr>\n",
       "    <tr>\n",
       "      <th>3</th>\n",
       "      <td>44.5</td>\n",
       "      <td>premeno</td>\n",
       "      <td>37.0</td>\n",
       "      <td>1.0</td>\n",
       "      <td>yes</td>\n",
       "      <td>3</td>\n",
       "      <td>right</td>\n",
       "      <td>left_low</td>\n",
       "      <td>yes</td>\n",
       "      <td>no-recurrence-events</td>\n",
       "    </tr>\n",
       "    <tr>\n",
       "      <th>4</th>\n",
       "      <td>44.5</td>\n",
       "      <td>premeno</td>\n",
       "      <td>32.0</td>\n",
       "      <td>4.0</td>\n",
       "      <td>yes</td>\n",
       "      <td>2</td>\n",
       "      <td>left</td>\n",
       "      <td>right_up</td>\n",
       "      <td>no</td>\n",
       "      <td>recurrence-events</td>\n",
       "    </tr>\n",
       "  </tbody>\n",
       "</table>\n",
       "</div>"
      ],
      "text/plain": [
       "    age menopause  tumor-size  inv-nodes node-caps  deg-malig breast  \\\n",
       "0  44.5   premeno        17.0        1.0       yes          3  right   \n",
       "1  54.5      ge40        17.0        1.0        no          1  right   \n",
       "2  54.5      ge40        37.0        1.0        no          2   left   \n",
       "3  44.5   premeno        37.0        1.0       yes          3  right   \n",
       "4  44.5   premeno        32.0        4.0       yes          2   left   \n",
       "\n",
       "  breast-quad irradiat                 Class  \n",
       "0     left_up       no     recurrence-events  \n",
       "1     central       no  no-recurrence-events  \n",
       "2    left_low       no     recurrence-events  \n",
       "3    left_low      yes  no-recurrence-events  \n",
       "4    right_up       no     recurrence-events  "
      ]
     },
     "execution_count": 62,
     "metadata": {},
     "output_type": "execute_result"
    }
   ],
   "source": [
    "dataset['age'] = dataset['age'].apply(repararcol)\n",
    "dataset['tumor-size'] = dataset['tumor-size'].apply(repararcol)\n",
    "dataset['inv-nodes'] = dataset['inv-nodes'].apply(repararcol)\n",
    "\n",
    "dataset.head()"
   ]
  },
  {
   "cell_type": "code",
   "execution_count": 70,
   "metadata": {},
   "outputs": [
    {
     "data": {
      "text/html": [
       "<div>\n",
       "<style scoped>\n",
       "    .dataframe tbody tr th:only-of-type {\n",
       "        vertical-align: middle;\n",
       "    }\n",
       "\n",
       "    .dataframe tbody tr th {\n",
       "        vertical-align: top;\n",
       "    }\n",
       "\n",
       "    .dataframe thead th {\n",
       "        text-align: right;\n",
       "    }\n",
       "</style>\n",
       "<table border=\"1\" class=\"dataframe\">\n",
       "  <thead>\n",
       "    <tr style=\"text-align: right;\">\n",
       "      <th></th>\n",
       "      <th>age</th>\n",
       "      <th>tumor-size</th>\n",
       "      <th>inv-nodes</th>\n",
       "      <th>deg-malig</th>\n",
       "    </tr>\n",
       "  </thead>\n",
       "  <tbody>\n",
       "    <tr>\n",
       "      <th>0</th>\n",
       "      <td>44.5</td>\n",
       "      <td>17.0</td>\n",
       "      <td>1.0</td>\n",
       "      <td>3</td>\n",
       "    </tr>\n",
       "    <tr>\n",
       "      <th>1</th>\n",
       "      <td>54.5</td>\n",
       "      <td>17.0</td>\n",
       "      <td>1.0</td>\n",
       "      <td>1</td>\n",
       "    </tr>\n",
       "    <tr>\n",
       "      <th>2</th>\n",
       "      <td>54.5</td>\n",
       "      <td>37.0</td>\n",
       "      <td>1.0</td>\n",
       "      <td>2</td>\n",
       "    </tr>\n",
       "    <tr>\n",
       "      <th>3</th>\n",
       "      <td>44.5</td>\n",
       "      <td>37.0</td>\n",
       "      <td>1.0</td>\n",
       "      <td>3</td>\n",
       "    </tr>\n",
       "    <tr>\n",
       "      <th>4</th>\n",
       "      <td>44.5</td>\n",
       "      <td>32.0</td>\n",
       "      <td>4.0</td>\n",
       "      <td>2</td>\n",
       "    </tr>\n",
       "  </tbody>\n",
       "</table>\n",
       "</div>"
      ],
      "text/plain": [
       "    age  tumor-size  inv-nodes  deg-malig\n",
       "0  44.5        17.0        1.0          3\n",
       "1  54.5        17.0        1.0          1\n",
       "2  54.5        37.0        1.0          2\n",
       "3  44.5        37.0        1.0          3\n",
       "4  44.5        32.0        4.0          2"
      ]
     },
     "execution_count": 70,
     "metadata": {},
     "output_type": "execute_result"
    }
   ],
   "source": [
    "df = dataset[['age','tumor-size','inv-nodes','deg-malig']]\n",
    "df.head()\n"
   ]
  },
  {
   "cell_type": "code",
   "execution_count": 71,
   "metadata": {},
   "outputs": [],
   "source": [
    "pipe = make_pipeline(PCA(n_components=2),StandardScaler())\n",
    "transf_data = pipe.fit_transform(df)"
   ]
  },
  {
   "cell_type": "code",
   "execution_count": 73,
   "metadata": {},
   "outputs": [],
   "source": [
    "clf= KMeans(n_clusters=2)\n",
    "\n",
    "clf.fit(transf_data)\n",
    "\n",
    "pred = clf.predict(transf_data)"
   ]
  },
  {
   "cell_type": "code",
   "execution_count": 74,
   "metadata": {},
   "outputs": [
    {
     "data": {
      "text/plain": [
       "array([0, 1, 1, 0, 0, 1, 1, 0, 0, 0, 1, 1, 1, 1, 0, 0, 1, 1, 1, 1, 1, 1,\n",
       "       1, 0, 0, 1, 1, 0, 1, 0, 1, 1, 1, 1, 0, 0, 0, 1, 0, 0, 0, 0, 1, 1,\n",
       "       0, 1, 1, 0, 1, 1, 1, 1, 0, 1, 0, 0, 1, 0, 1, 0, 1, 0, 0, 0, 0, 1,\n",
       "       0, 1, 0, 0, 1, 1, 1, 1, 0, 1, 1, 0, 0, 1, 1, 0, 0, 1, 0, 1, 0, 0,\n",
       "       1, 1, 1, 0, 1, 1, 1, 0, 0, 1, 1, 0, 0, 1, 1, 1, 0, 1, 1, 1, 1, 0,\n",
       "       1, 1, 0, 0, 1, 1, 0, 1, 0, 0, 0, 1, 0, 0, 0, 1, 1, 1, 0, 1, 0, 0,\n",
       "       0, 0, 0, 0, 1, 1, 1, 1, 0, 0, 0, 1, 1, 1, 0, 1, 0, 0, 0, 1, 1, 0,\n",
       "       1, 1, 0, 0, 1, 1, 1, 0, 1, 1, 0, 1, 1, 0, 0, 0, 1, 1, 0, 1, 0, 0,\n",
       "       0, 0, 0, 0, 0, 1, 0, 1, 0, 1, 0, 0, 1, 1, 1, 0, 1, 1, 0, 0, 0, 1,\n",
       "       0, 1, 0, 0, 1, 0, 0, 1, 1, 1, 0, 0, 0, 0, 0, 1, 0, 1, 1, 1, 1, 1,\n",
       "       1, 1, 0, 1, 0, 1, 1, 0, 0, 0, 0, 0, 1, 1, 1, 1, 0, 0, 1, 1, 1, 1,\n",
       "       0, 0, 0, 1, 0, 1, 1, 1, 0, 1, 0, 1, 0, 1, 1, 1, 0, 1, 1, 0, 1, 0,\n",
       "       0, 1, 0, 0, 1, 1, 1, 0, 0, 0, 1, 1, 0, 0, 1, 0, 1, 1, 1, 0, 1, 1],\n",
       "      dtype=int32)"
      ]
     },
     "execution_count": 74,
     "metadata": {},
     "output_type": "execute_result"
    }
   ],
   "source": [
    "pred"
   ]
  },
  {
   "cell_type": "code",
   "execution_count": 75,
   "metadata": {},
   "outputs": [
    {
     "data": {
      "text/plain": [
       "array([[ 0.80693243, -0.77603112, -0.30365038,  1.65665361],\n",
       "       [ 0.93585538,  0.20667311, -0.30347358, -1.19401903],\n",
       "       [-0.94344803,  0.47015678, -0.63408786, -0.07454898],\n",
       "       ...,\n",
       "       [-0.75968607, -1.56251651,  1.13305281, -0.73125916],\n",
       "       [ 0.93430336,  0.20626913, -0.28418021,  0.27063354],\n",
       "       [-1.4144379 ,  0.53572471, -0.70227141,  1.30380797]])"
      ]
     },
     "execution_count": 75,
     "metadata": {},
     "output_type": "execute_result"
    }
   ],
   "source": [
    "transf_data"
   ]
  },
  {
   "cell_type": "code",
   "execution_count": 79,
   "metadata": {},
   "outputs": [
    {
     "data": {
      "text/plain": [
       "array([3, 1, 2])"
      ]
     },
     "execution_count": 79,
     "metadata": {},
     "output_type": "execute_result"
    }
   ],
   "source": [
    "df[df.columns[-2]].unique()"
   ]
  },
  {
   "cell_type": "code",
   "execution_count": 77,
   "metadata": {},
   "outputs": [
    {
     "name": "stderr",
     "output_type": "stream",
     "text": [
      "/var/folders/ys/jxxv1yt57zlfqd9gmyxrs_nh0000gn/T/ipykernel_19894/3023718964.py:5: SettingWithCopyWarning: \n",
      "A value is trying to be set on a copy of a slice from a DataFrame.\n",
      "Try using .loc[row_indexer,col_indexer] = value instead\n",
      "\n",
      "See the caveats in the documentation: https://pandas.pydata.org/pandas-docs/stable/user_guide/indexing.html#returning-a-view-versus-a-copy\n",
      "  df['clases_numericas'] = df[df.columns[-1]].apply(str2clas)\n"
     ]
    },
    {
     "data": {
      "text/html": [
       "<div>\n",
       "<style scoped>\n",
       "    .dataframe tbody tr th:only-of-type {\n",
       "        vertical-align: middle;\n",
       "    }\n",
       "\n",
       "    .dataframe tbody tr th {\n",
       "        vertical-align: top;\n",
       "    }\n",
       "\n",
       "    .dataframe thead th {\n",
       "        text-align: right;\n",
       "    }\n",
       "</style>\n",
       "<table border=\"1\" class=\"dataframe\">\n",
       "  <thead>\n",
       "    <tr style=\"text-align: right;\">\n",
       "      <th></th>\n",
       "      <th>age</th>\n",
       "      <th>tumor-size</th>\n",
       "      <th>inv-nodes</th>\n",
       "      <th>deg-malig</th>\n",
       "      <th>clases_numericas</th>\n",
       "    </tr>\n",
       "  </thead>\n",
       "  <tbody>\n",
       "    <tr>\n",
       "      <th>0</th>\n",
       "      <td>44.5</td>\n",
       "      <td>17.0</td>\n",
       "      <td>1.0</td>\n",
       "      <td>3</td>\n",
       "      <td>1</td>\n",
       "    </tr>\n",
       "    <tr>\n",
       "      <th>1</th>\n",
       "      <td>54.5</td>\n",
       "      <td>17.0</td>\n",
       "      <td>1.0</td>\n",
       "      <td>1</td>\n",
       "      <td>1</td>\n",
       "    </tr>\n",
       "    <tr>\n",
       "      <th>2</th>\n",
       "      <td>54.5</td>\n",
       "      <td>37.0</td>\n",
       "      <td>1.0</td>\n",
       "      <td>2</td>\n",
       "      <td>1</td>\n",
       "    </tr>\n",
       "    <tr>\n",
       "      <th>3</th>\n",
       "      <td>44.5</td>\n",
       "      <td>37.0</td>\n",
       "      <td>1.0</td>\n",
       "      <td>3</td>\n",
       "      <td>1</td>\n",
       "    </tr>\n",
       "    <tr>\n",
       "      <th>4</th>\n",
       "      <td>44.5</td>\n",
       "      <td>32.0</td>\n",
       "      <td>4.0</td>\n",
       "      <td>2</td>\n",
       "      <td>1</td>\n",
       "    </tr>\n",
       "  </tbody>\n",
       "</table>\n",
       "</div>"
      ],
      "text/plain": [
       "    age  tumor-size  inv-nodes  deg-malig  clases_numericas\n",
       "0  44.5        17.0        1.0          3                 1\n",
       "1  54.5        17.0        1.0          1                 1\n",
       "2  54.5        37.0        1.0          2                 1\n",
       "3  44.5        37.0        1.0          3                 1\n",
       "4  44.5        32.0        4.0          2                 1"
      ]
     },
     "execution_count": 77,
     "metadata": {},
     "output_type": "execute_result"
    }
   ],
   "source": [
    "def str2clas(x):\n",
    "    if 'recurrence-events' == x:\n",
    "        return 0\n",
    "    return 1\n",
    "df['clases_numericas'] = df[df.columns[-1]].apply(str2clas)\n",
    "\n",
    "df.head()"
   ]
  },
  {
   "cell_type": "code",
   "execution_count": 87,
   "metadata": {},
   "outputs": [],
   "source": [
    "import matplotlib.pyplot as plt\n"
   ]
  },
  {
   "cell_type": "code",
   "execution_count": 89,
   "metadata": {},
   "outputs": [
    {
     "data": {
      "image/png": "[encoded data removed]",
      "image/svg+xml": "<?xml version=\"1.0\" encoding=\"utf-8\" standalone=\"no\"?>\n<!DOCTYPE svg PUBLIC \"-//W3C//DTD SVG 1.1//EN\"\n  \"http://www.w3.org/Graphics/SVG/1.1/DTD/svg11.dtd\">\n<svg xmlns:xlink=\"http://www.w3.org/1999/xlink\" width=\"705.742187pt\" height=\"411.598125pt\" viewBox=\"0 0 705.742187 411.598125\" xmlns=\"http://www.w3.org/2000/svg\" version=\"1.1\">\n <metadata>\n  <rdf:RDF xmlns:dc=\"http://purl.org/dc/elements/1.1/\" xmlns:cc=\"http://creativecommons.org/ns#\" xmlns:rdf=\"http://www.w3.org/1999/02/22-rdf-syntax-ns#\">\n   <cc:Work>\n    <dc:type rdf:resource=\"http://purl.org/dc/dcmitype/StillImage\"/>\n    <dc:date>2022-07-05T13:23:15.003089</dc:date>\n    <dc:format>image/svg+xml</dc:format>\n    <dc:creator>\n     <cc:Agent>\n      <dc:title>Matplotlib v3.5.2, https://matplotlib.org/</dc:title>\n     </cc:Agent>\n    </dc:creator>\n   </cc:Work>\n  </rdf:RDF>\n </metadata>\n <defs>\n  <style type=\"text/css\">*{stroke-linejoin: round; stroke-linecap: butt}</style>\n </defs>\n <g id=\"figure_1\">\n  <g id=\"patch_1\">\n   <path d=\"M 0 411.598125 \nL 705.742187 411.598125 \nL 705.742187 0 \nL 0 0 \nL 0 411.598125 \nz\n\" style=\"fill: none\"/>\n  </g>\n  <g id=\"axes_1\">\n   <g id=\"patch_2\">\n    <path d=\"M 28.942188 387.72 \nL 698.542188 387.72 \nL 698.542188 7.2 \nL 28.942188 7.2 \nz\n\" style=\"fill: #ffffff\"/>\n   </g>\n   <g id=\"PathCollection_1\">\n    <defs>\n     <path id=\"C0_0_9a88c68f7c\" d=\"M 0 3 \nC 0.795609 3 1.55874 2.683901 2.12132 2.12132 \nC 2.683901 1.55874 3 0.795609 3 -0 \nC 3 -0.795609 2.683901 -1.55874 2.12132 -2.12132 \nC 1.55874 -2.683901 0.795609 -3 0 -3 \nC -0.795609 -3 -1.55874 -2.683901 -2.12132 -2.12132 \nC -2.683901 -1.55874 -3 -0.795609 -3 0 \nC -3 0.795609 -2.683901 1.55874 -2.12132 2.12132 \nC -1.55874 2.683901 -0.795609 3 0 3 \nz\n\"/>\n    </defs>\n    <g clip-path=\"url(#pde16af792c)\">\n     <use xlink:href=\"#C0_0_9a88c68f7c\" x=\"453.46883\" y=\"252.272394\" style=\"fill: #440154; stroke: #440154\"/>\n    </g>\n    <g clip-path=\"url(#pde16af792c)\">\n     <use xlink:href=\"#C0_0_9a88c68f7c\" x=\"468.937572\" y=\"183.953675\" style=\"fill: #fde725; stroke: #fde725\"/>\n    </g>\n    <g clip-path=\"url(#pde16af792c)\">\n     <use xlink:href=\"#C0_0_9a88c68f7c\" x=\"243.450498\" y=\"165.63599\" style=\"fill: #fde725; stroke: #fde725\"/>\n    </g>\n    <g clip-path=\"url(#pde16af792c)\">\n     <use xlink:href=\"#C0_0_9a88c68f7c\" x=\"228.167974\" y=\"233.926624\" style=\"fill: #440154; stroke: #440154\"/>\n    </g>\n    <g clip-path=\"url(#pde16af792c)\">\n     <use xlink:href=\"#C0_0_9a88c68f7c\" x=\"282.637388\" y=\"238.586094\" style=\"fill: #440154; stroke: #440154\"/>\n    </g>\n    <g clip-path=\"url(#pde16af792c)\">\n     <use xlink:href=\"#C0_0_9a88c68f7c\" x=\"354.058907\" y=\"174.909987\" style=\"fill: #fde725; stroke: #fde725\"/>\n    </g>\n    <g clip-path=\"url(#pde16af792c)\">\n     <use xlink:href=\"#C0_0_9a88c68f7c\" x=\"186.939066\" y=\"161.077632\" style=\"fill: #fde725; stroke: #fde725\"/>\n    </g>\n    <g clip-path=\"url(#pde16af792c)\">\n     <use xlink:href=\"#C0_0_9a88c68f7c\" x=\"509.980262\" y=\"256.830751\" style=\"fill: #440154; stroke: #440154\"/>\n    </g>\n    <g clip-path=\"url(#pde16af792c)\">\n     <use xlink:href=\"#C0_0_9a88c68f7c\" x=\"622.63069\" y=\"266.003637\" style=\"fill: #440154; stroke: #440154\"/>\n    </g>\n    <g clip-path=\"url(#pde16af792c)\">\n     <use xlink:href=\"#C0_0_9a88c68f7c\" x=\"161.818888\" y=\"229.81766\" style=\"fill: #440154; stroke: #440154\"/>\n    </g>\n    <g clip-path=\"url(#pde16af792c)\">\n     <use xlink:href=\"#C0_0_9a88c68f7c\" x=\"356.100926\" y=\"174.808875\" style=\"fill: #fde725; stroke: #fde725\"/>\n    </g>\n    <g clip-path=\"url(#pde16af792c)\">\n     <use xlink:href=\"#C0_0_9a88c68f7c\" x=\"483.847659\" y=\"115.719211\" style=\"fill: #fde725; stroke: #fde725\"/>\n    </g>\n    <g clip-path=\"url(#pde16af792c)\">\n     <use xlink:href=\"#C0_0_9a88c68f7c\" x=\"299.96193\" y=\"170.194347\" style=\"fill: #fde725; stroke: #fde725\"/>\n    </g>\n    <g clip-path=\"url(#pde16af792c)\">\n     <use xlink:href=\"#C0_0_9a88c68f7c\" x=\"356.100926\" y=\"174.808875\" style=\"fill: #fde725; stroke: #fde725\"/>\n    </g>\n    <g clip-path=\"url(#pde16af792c)\">\n     <use xlink:href=\"#C0_0_9a88c68f7c\" x=\"341.00462\" y=\"243.071424\" style=\"fill: #440154; stroke: #440154\"/>\n    </g>\n    <g clip-path=\"url(#pde16af792c)\">\n     <use xlink:href=\"#C0_0_9a88c68f7c\" x=\"382.047311\" y=\"315.948501\" style=\"fill: #440154; stroke: #440154\"/>\n    </g>\n    <g clip-path=\"url(#pde16af792c)\">\n     <use xlink:href=\"#C0_0_9a88c68f7c\" x=\"523.220767\" y=\"188.64123\" style=\"fill: #fde725; stroke: #fde725\"/>\n    </g>\n    <g clip-path=\"url(#pde16af792c)\">\n     <use xlink:href=\"#C0_0_9a88c68f7c\" x=\"483.847659\" y=\"115.719211\" style=\"fill: #fde725; stroke: #fde725\"/>\n    </g>\n    <g clip-path=\"url(#pde16af792c)\">\n     <use xlink:href=\"#C0_0_9a88c68f7c\" x=\"187.125284\" y=\"161.049547\" style=\"fill: #fde725; stroke: #fde725\"/>\n    </g>\n    <g clip-path=\"url(#pde16af792c)\">\n     <use xlink:href=\"#C0_0_9a88c68f7c\" x=\"412.239921\" y=\"179.423403\" style=\"fill: #fde725; stroke: #fde725\"/>\n    </g>\n    <g clip-path=\"url(#pde16af792c)\">\n     <use xlink:href=\"#C0_0_9a88c68f7c\" x=\"412.612358\" y=\"179.367232\" style=\"fill: #fde725; stroke: #fde725\"/>\n    </g>\n    <g clip-path=\"url(#pde16af792c)\">\n     <use xlink:href=\"#C0_0_9a88c68f7c\" x=\"200.179571\" y=\"92.888111\" style=\"fill: #fde725; stroke: #fde725\"/>\n    </g>\n    <g clip-path=\"url(#pde16af792c)\">\n     <use xlink:href=\"#C0_0_9a88c68f7c\" x=\"468.751353\" y=\"183.98176\" style=\"fill: #fde725; stroke: #fde725\"/>\n    </g>\n    <g clip-path=\"url(#pde16af792c)\">\n     <use xlink:href=\"#C0_0_9a88c68f7c\" x=\"510.16648\" y=\"256.802666\" style=\"fill: #440154; stroke: #440154\"/>\n    </g>\n    <g clip-path=\"url(#pde16af792c)\">\n     <use xlink:href=\"#C0_0_9a88c68f7c\" x=\"434.288488\" y=\"320.737169\" style=\"fill: #440154; stroke: #440154\"/>\n    </g>\n    <g clip-path=\"url(#pde16af792c)\">\n     <use xlink:href=\"#C0_0_9a88c68f7c\" x=\"410.384121\" y=\"179.49643\" style=\"fill: #fde725; stroke: #fde725\"/>\n    </g>\n    <g clip-path=\"url(#pde16af792c)\">\n     <use xlink:href=\"#C0_0_9a88c68f7c\" x=\"525.076567\" y=\"188.568203\" style=\"fill: #fde725; stroke: #fde725\"/>\n    </g>\n    <g clip-path=\"url(#pde16af792c)\">\n     <use xlink:href=\"#C0_0_9a88c68f7c\" x=\"510.16648\" y=\"256.802666\" style=\"fill: #440154; stroke: #440154\"/>\n    </g>\n    <g clip-path=\"url(#pde16af792c)\">\n     <use xlink:href=\"#C0_0_9a88c68f7c\" x=\"312.643781\" y=\"102.089081\" style=\"fill: #fde725; stroke: #fde725\"/>\n    </g>\n    <g clip-path=\"url(#pde16af792c)\">\n     <use xlink:href=\"#C0_0_9a88c68f7c\" x=\"443.258739\" y=\"252.777958\" style=\"fill: #440154; stroke: #440154\"/>\n    </g>\n    <g clip-path=\"url(#pde16af792c)\">\n     <use xlink:href=\"#C0_0_9a88c68f7c\" x=\"314.685799\" y=\"101.987969\" style=\"fill: #fde725; stroke: #fde725\"/>\n    </g>\n    <g clip-path=\"url(#pde16af792c)\">\n     <use xlink:href=\"#C0_0_9a88c68f7c\" x=\"369.341431\" y=\"106.619353\" style=\"fill: #fde725; stroke: #fde725\"/>\n    </g>\n    <g clip-path=\"url(#pde16af792c)\">\n     <use xlink:href=\"#C0_0_9a88c68f7c\" x=\"355.914707\" y=\"174.83696\" style=\"fill: #fde725; stroke: #fde725\"/>\n    </g>\n    <g clip-path=\"url(#pde16af792c)\">\n     <use xlink:href=\"#C0_0_9a88c68f7c\" x=\"412.239921\" y=\"179.423403\" style=\"fill: #fde725; stroke: #fde725\"/>\n    </g>\n    <g clip-path=\"url(#pde16af792c)\">\n     <use xlink:href=\"#C0_0_9a88c68f7c\" x=\"284.865625\" y=\"238.456896\" style=\"fill: #440154; stroke: #440154\"/>\n    </g>\n    <g clip-path=\"url(#pde16af792c)\">\n     <use xlink:href=\"#C0_0_9a88c68f7c\" x=\"438.744961\" y=\"320.478772\" style=\"fill: #440154; stroke: #440154\"/>\n    </g>\n    <g clip-path=\"url(#pde16af792c)\">\n     <use xlink:href=\"#C0_0_9a88c68f7c\" x=\"509.980262\" y=\"256.830751\" style=\"fill: #440154; stroke: #440154\"/>\n    </g>\n    <g clip-path=\"url(#pde16af792c)\">\n     <use xlink:href=\"#C0_0_9a88c68f7c\" x=\"141.626121\" y=\"88.430866\" style=\"fill: #fde725; stroke: #fde725\"/>\n    </g>\n    <g clip-path=\"url(#pde16af792c)\">\n     <use xlink:href=\"#C0_0_9a88c68f7c\" x=\"397.143616\" y=\"247.685952\" style=\"fill: #440154; stroke: #440154\"/>\n    </g>\n    <g clip-path=\"url(#pde16af792c)\">\n     <use xlink:href=\"#C0_0_9a88c68f7c\" x=\"510.16648\" y=\"256.802666\" style=\"fill: #440154; stroke: #440154\"/>\n    </g>\n    <g clip-path=\"url(#pde16af792c)\">\n     <use xlink:href=\"#C0_0_9a88c68f7c\" x=\"213.071669\" y=\"302.189173\" style=\"fill: #440154; stroke: #440154\"/>\n    </g>\n    <g clip-path=\"url(#pde16af792c)\">\n     <use xlink:href=\"#C0_0_9a88c68f7c\" x=\"222.228138\" y=\"234.201877\" style=\"fill: #440154; stroke: #440154\"/>\n    </g>\n    <g clip-path=\"url(#pde16af792c)\">\n     <use xlink:href=\"#C0_0_9a88c68f7c\" x=\"371.197231\" y=\"106.546326\" style=\"fill: #fde725; stroke: #fde725\"/>\n    </g>\n    <g clip-path=\"url(#pde16af792c)\">\n     <use xlink:href=\"#C0_0_9a88c68f7c\" x=\"410.197903\" y=\"179.524515\" style=\"fill: #fde725; stroke: #fde725\"/>\n    </g>\n    <g clip-path=\"url(#pde16af792c)\">\n     <use xlink:href=\"#C0_0_9a88c68f7c\" x=\"438.744961\" y=\"320.478772\" style=\"fill: #440154; stroke: #440154\"/>\n    </g>\n    <g clip-path=\"url(#pde16af792c)\">\n     <use xlink:href=\"#C0_0_9a88c68f7c\" x=\"299.589494\" y=\"170.250517\" style=\"fill: #fde725; stroke: #fde725\"/>\n    </g>\n    <g clip-path=\"url(#pde16af792c)\">\n     <use xlink:href=\"#C0_0_9a88c68f7c\" x=\"540.172873\" y=\"120.305654\" style=\"fill: #fde725; stroke: #fde725\"/>\n    </g>\n    <g clip-path=\"url(#pde16af792c)\">\n     <use xlink:href=\"#C0_0_9a88c68f7c\" x=\"228.167974\" y=\"233.926624\" style=\"fill: #440154; stroke: #440154\"/>\n    </g>\n    <g clip-path=\"url(#pde16af792c)\">\n     <use xlink:href=\"#C0_0_9a88c68f7c\" x=\"74.474857\" y=\"151.876662\" style=\"fill: #fde725; stroke: #fde725\"/>\n    </g>\n    <g clip-path=\"url(#pde16af792c)\">\n     <use xlink:href=\"#C0_0_9a88c68f7c\" x=\"186.939066\" y=\"161.077632\" style=\"fill: #fde725; stroke: #fde725\"/>\n    </g>\n    <g clip-path=\"url(#pde16af792c)\">\n     <use xlink:href=\"#C0_0_9a88c68f7c\" x=\"493.004128\" y=\"47.731915\" style=\"fill: #fde725; stroke: #fde725\"/>\n    </g>\n    <g clip-path=\"url(#pde16af792c)\">\n     <use xlink:href=\"#C0_0_9a88c68f7c\" x=\"299.589494\" y=\"170.250517\" style=\"fill: #fde725; stroke: #fde725\"/>\n    </g>\n    <g clip-path=\"url(#pde16af792c)\">\n     <use xlink:href=\"#C0_0_9a88c68f7c\" x=\"622.444471\" y=\"266.031722\" style=\"fill: #440154; stroke: #440154\"/>\n    </g>\n    <g clip-path=\"url(#pde16af792c)\">\n     <use xlink:href=\"#C0_0_9a88c68f7c\" x=\"217.504113\" y=\"24.496364\" style=\"fill: #fde725; stroke: #fde725\"/>\n    </g>\n    <g clip-path=\"url(#pde16af792c)\">\n     <use xlink:href=\"#C0_0_9a88c68f7c\" x=\"341.00462\" y=\"243.071424\" style=\"fill: #440154; stroke: #440154\"/>\n    </g>\n    <g clip-path=\"url(#pde16af792c)\">\n     <use xlink:href=\"#C0_0_9a88c68f7c\" x=\"345.704616\" y=\"175.342524\" style=\"fill: #440154; stroke: #440154\"/>\n    </g>\n    <g clip-path=\"url(#pde16af792c)\">\n     <use xlink:href=\"#C0_0_9a88c68f7c\" x=\"412.612358\" y=\"179.367232\" style=\"fill: #fde725; stroke: #fde725\"/>\n    </g>\n    <g clip-path=\"url(#pde16af792c)\">\n     <use xlink:href=\"#C0_0_9a88c68f7c\" x=\"233.054189\" y=\"166.169639\" style=\"fill: #440154; stroke: #440154\"/>\n    </g>\n    <g clip-path=\"url(#pde16af792c)\">\n     <use xlink:href=\"#C0_0_9a88c68f7c\" x=\"74.661075\" y=\"151.848576\" style=\"fill: #fde725; stroke: #fde725\"/>\n    </g>\n    <g clip-path=\"url(#pde16af792c)\">\n     <use xlink:href=\"#C0_0_9a88c68f7c\" x=\"607.534384\" y=\"334.266186\" style=\"fill: #440154; stroke: #440154\"/>\n    </g>\n    <g clip-path=\"url(#pde16af792c)\">\n     <use xlink:href=\"#C0_0_9a88c68f7c\" x=\"182.855029\" y=\"161.279858\" style=\"fill: #fde725; stroke: #fde725\"/>\n    </g>\n    <g clip-path=\"url(#pde16af792c)\">\n     <use xlink:href=\"#C0_0_9a88c68f7c\" x=\"284.679406\" y=\"238.484981\" style=\"fill: #440154; stroke: #440154\"/>\n    </g>\n    <g clip-path=\"url(#pde16af792c)\">\n     <use xlink:href=\"#C0_0_9a88c68f7c\" x=\"397.143616\" y=\"247.685952\" style=\"fill: #440154; stroke: #440154\"/>\n    </g>\n    <g clip-path=\"url(#pde16af792c)\">\n     <use xlink:href=\"#C0_0_9a88c68f7c\" x=\"274.283097\" y=\"239.01863\" style=\"fill: #440154; stroke: #440154\"/>\n    </g>\n    <g clip-path=\"url(#pde16af792c)\">\n     <use xlink:href=\"#C0_0_9a88c68f7c\" x=\"397.329834\" y=\"247.657866\" style=\"fill: #440154; stroke: #440154\"/>\n    </g>\n    <g clip-path=\"url(#pde16af792c)\">\n     <use xlink:href=\"#C0_0_9a88c68f7c\" x=\"468.937572\" y=\"183.953675\" style=\"fill: #fde725; stroke: #fde725\"/>\n    </g>\n    <g clip-path=\"url(#pde16af792c)\">\n     <use xlink:href=\"#C0_0_9a88c68f7c\" x=\"325.908315\" y=\"311.333973\" style=\"fill: #440154; stroke: #440154\"/>\n    </g>\n    <g clip-path=\"url(#pde16af792c)\">\n     <use xlink:href=\"#C0_0_9a88c68f7c\" x=\"483.847659\" y=\"115.719211\" style=\"fill: #fde725; stroke: #fde725\"/>\n    </g>\n    <g clip-path=\"url(#pde16af792c)\">\n     <use xlink:href=\"#C0_0_9a88c68f7c\" x=\"68.348802\" y=\"152.18\" style=\"fill: #440154; stroke: #440154\"/>\n    </g>\n    <g clip-path=\"url(#pde16af792c)\">\n     <use xlink:href=\"#C0_0_9a88c68f7c\" x=\"495.070175\" y=\"325.065215\" style=\"fill: #440154; stroke: #440154\"/>\n    </g>\n    <g clip-path=\"url(#pde16af792c)\">\n     <use xlink:href=\"#C0_0_9a88c68f7c\" x=\"353.872689\" y=\"174.938073\" style=\"fill: #fde725; stroke: #fde725\"/>\n    </g>\n    <g clip-path=\"url(#pde16af792c)\">\n     <use xlink:href=\"#C0_0_9a88c68f7c\" x=\"369.341431\" y=\"106.619353\" style=\"fill: #fde725; stroke: #fde725\"/>\n    </g>\n    <g clip-path=\"url(#pde16af792c)\">\n     <use xlink:href=\"#C0_0_9a88c68f7c\" x=\"540.359091\" y=\"120.277568\" style=\"fill: #fde725; stroke: #fde725\"/>\n    </g>\n    <g clip-path=\"url(#pde16af792c)\">\n     <use xlink:href=\"#C0_0_9a88c68f7c\" x=\"295.505457\" y=\"170.452743\" style=\"fill: #fde725; stroke: #fde725\"/>\n    </g>\n    <g clip-path=\"url(#pde16af792c)\">\n     <use xlink:href=\"#C0_0_9a88c68f7c\" x=\"321.63806\" y=\"311.564283\" style=\"fill: #440154; stroke: #440154\"/>\n    </g>\n    <g clip-path=\"url(#pde16af792c)\">\n     <use xlink:href=\"#C0_0_9a88c68f7c\" x=\"525.262785\" y=\"188.540117\" style=\"fill: #fde725; stroke: #fde725\"/>\n    </g>\n    <g clip-path=\"url(#pde16af792c)\">\n     <use xlink:href=\"#C0_0_9a88c68f7c\" x=\"468.937572\" y=\"183.953675\" style=\"fill: #fde725; stroke: #fde725\"/>\n    </g>\n    <g clip-path=\"url(#pde16af792c)\">\n     <use xlink:href=\"#C0_0_9a88c68f7c\" x=\"341.00462\" y=\"243.071424\" style=\"fill: #440154; stroke: #440154\"/>\n    </g>\n    <g clip-path=\"url(#pde16af792c)\">\n     <use xlink:href=\"#C0_0_9a88c68f7c\" x=\"340.818402\" y=\"243.099509\" style=\"fill: #440154; stroke: #440154\"/>\n    </g>\n    <g clip-path=\"url(#pde16af792c)\">\n     <use xlink:href=\"#C0_0_9a88c68f7c\" x=\"310.787981\" y=\"102.162109\" style=\"fill: #fde725; stroke: #fde725\"/>\n    </g>\n    <g clip-path=\"url(#pde16af792c)\">\n     <use xlink:href=\"#C0_0_9a88c68f7c\" x=\"468.751353\" y=\"183.98176\" style=\"fill: #fde725; stroke: #fde725\"/>\n    </g>\n    <g clip-path=\"url(#pde16af792c)\">\n     <use xlink:href=\"#C0_0_9a88c68f7c\" x=\"341.00462\" y=\"243.071424\" style=\"fill: #440154; stroke: #440154\"/>\n    </g>\n    <g clip-path=\"url(#pde16af792c)\">\n     <use xlink:href=\"#C0_0_9a88c68f7c\" x=\"284.865625\" y=\"238.456896\" style=\"fill: #440154; stroke: #440154\"/>\n    </g>\n    <g clip-path=\"url(#pde16af792c)\">\n     <use xlink:href=\"#C0_0_9a88c68f7c\" x=\"483.847659\" y=\"115.719211\" style=\"fill: #fde725; stroke: #fde725\"/>\n    </g>\n    <g clip-path=\"url(#pde16af792c)\">\n     <use xlink:href=\"#C0_0_9a88c68f7c\" x=\"607.534384\" y=\"334.266186\" style=\"fill: #440154; stroke: #440154\"/>\n    </g>\n    <g clip-path=\"url(#pde16af792c)\">\n     <use xlink:href=\"#C0_0_9a88c68f7c\" x=\"243.26428\" y=\"165.664075\" style=\"fill: #fde725; stroke: #fde725\"/>\n    </g>\n    <g clip-path=\"url(#pde16af792c)\">\n     <use xlink:href=\"#C0_0_9a88c68f7c\" x=\"172.215197\" y=\"229.28401\" style=\"fill: #440154; stroke: #440154\"/>\n    </g>\n    <g clip-path=\"url(#pde16af792c)\">\n     <use xlink:href=\"#C0_0_9a88c68f7c\" x=\"321.824279\" y=\"311.536198\" style=\"fill: #440154; stroke: #440154\"/>\n    </g>\n    <g clip-path=\"url(#pde16af792c)\">\n     <use xlink:href=\"#C0_0_9a88c68f7c\" x=\"412.612358\" y=\"179.367232\" style=\"fill: #fde725; stroke: #fde725\"/>\n    </g>\n    <g clip-path=\"url(#pde16af792c)\">\n     <use xlink:href=\"#C0_0_9a88c68f7c\" x=\"299.96193\" y=\"170.194347\" style=\"fill: #fde725; stroke: #fde725\"/>\n    </g>\n    <g clip-path=\"url(#pde16af792c)\">\n     <use xlink:href=\"#C0_0_9a88c68f7c\" x=\"427.708663\" y=\"111.104683\" style=\"fill: #fde725; stroke: #fde725\"/>\n    </g>\n    <g clip-path=\"url(#pde16af792c)\">\n     <use xlink:href=\"#C0_0_9a88c68f7c\" x=\"267.354865\" y=\"306.876728\" style=\"fill: #440154; stroke: #440154\"/>\n    </g>\n    <g clip-path=\"url(#pde16af792c)\">\n     <use xlink:href=\"#C0_0_9a88c68f7c\" x=\"412.612358\" y=\"179.367232\" style=\"fill: #fde725; stroke: #fde725\"/>\n    </g>\n    <g clip-path=\"url(#pde16af792c)\">\n     <use xlink:href=\"#C0_0_9a88c68f7c\" x=\"525.076567\" y=\"188.568203\" style=\"fill: #fde725; stroke: #fde725\"/>\n    </g>\n    <g clip-path=\"url(#pde16af792c)\">\n     <use xlink:href=\"#C0_0_9a88c68f7c\" x=\"412.42614\" y=\"179.395317\" style=\"fill: #fde725; stroke: #fde725\"/>\n    </g>\n    <g clip-path=\"url(#pde16af792c)\">\n     <use xlink:href=\"#C0_0_9a88c68f7c\" x=\"115.703765\" y=\"224.725653\" style=\"fill: #440154; stroke: #440154\"/>\n    </g>\n    <g clip-path=\"url(#pde16af792c)\">\n     <use xlink:href=\"#C0_0_9a88c68f7c\" x=\"157.118892\" y=\"297.546559\" style=\"fill: #440154; stroke: #440154\"/>\n    </g>\n    <g clip-path=\"url(#pde16af792c)\">\n     <use xlink:href=\"#C0_0_9a88c68f7c\" x=\"525.262785\" y=\"188.540117\" style=\"fill: #fde725; stroke: #fde725\"/>\n    </g>\n    <g clip-path=\"url(#pde16af792c)\">\n     <use xlink:href=\"#C0_0_9a88c68f7c\" x=\"314.685799\" y=\"101.987969\" style=\"fill: #fde725; stroke: #fde725\"/>\n    </g>\n    <g clip-path=\"url(#pde16af792c)\">\n     <use xlink:href=\"#C0_0_9a88c68f7c\" x=\"228.540411\" y=\"233.870453\" style=\"fill: #440154; stroke: #440154\"/>\n    </g>\n    <g clip-path=\"url(#pde16af792c)\">\n     <use xlink:href=\"#C0_0_9a88c68f7c\" x=\"395.287816\" y=\"247.758979\" style=\"fill: #440154; stroke: #440154\"/>\n    </g>\n    <g clip-path=\"url(#pde16af792c)\">\n     <use xlink:href=\"#C0_0_9a88c68f7c\" x=\"468.751353\" y=\"183.98176\" style=\"fill: #fde725; stroke: #fde725\"/>\n    </g>\n    <g clip-path=\"url(#pde16af792c)\">\n     <use xlink:href=\"#C0_0_9a88c68f7c\" x=\"299.589494\" y=\"170.250517\" style=\"fill: #fde725; stroke: #fde725\"/>\n    </g>\n    <g clip-path=\"url(#pde16af792c)\">\n     <use xlink:href=\"#C0_0_9a88c68f7c\" x=\"427.522445\" y=\"111.132768\" style=\"fill: #fde725; stroke: #fde725\"/>\n    </g>\n    <g clip-path=\"url(#pde16af792c)\">\n     <use xlink:href=\"#C0_0_9a88c68f7c\" x=\"397.516052\" y=\"247.629781\" style=\"fill: #440154; stroke: #440154\"/>\n    </g>\n    <g clip-path=\"url(#pde16af792c)\">\n     <use xlink:href=\"#C0_0_9a88c68f7c\" x=\"312.829999\" y=\"102.060996\" style=\"fill: #fde725; stroke: #fde725\"/>\n    </g>\n    <g clip-path=\"url(#pde16af792c)\">\n     <use xlink:href=\"#C0_0_9a88c68f7c\" x=\"425.480427\" y=\"111.233881\" style=\"fill: #fde725; stroke: #fde725\"/>\n    </g>\n    <g clip-path=\"url(#pde16af792c)\">\n     <use xlink:href=\"#C0_0_9a88c68f7c\" x=\"356.100926\" y=\"174.808875\" style=\"fill: #fde725; stroke: #fde725\"/>\n    </g>\n    <g clip-path=\"url(#pde16af792c)\">\n     <use xlink:href=\"#C0_0_9a88c68f7c\" x=\"299.96193\" y=\"170.194347\" style=\"fill: #fde725; stroke: #fde725\"/>\n    </g>\n    <g clip-path=\"url(#pde16af792c)\">\n     <use xlink:href=\"#C0_0_9a88c68f7c\" x=\"397.329834\" y=\"247.657866\" style=\"fill: #440154; stroke: #440154\"/>\n    </g>\n    <g clip-path=\"url(#pde16af792c)\">\n     <use xlink:href=\"#C0_0_9a88c68f7c\" x=\"484.033877\" y=\"115.691126\" style=\"fill: #fde725; stroke: #fde725\"/>\n    </g>\n    <g clip-path=\"url(#pde16af792c)\">\n     <use xlink:href=\"#C0_0_9a88c68f7c\" x=\"314.872017\" y=\"101.959883\" style=\"fill: #fde725; stroke: #fde725\"/>\n    </g>\n    <g clip-path=\"url(#pde16af792c)\">\n     <use xlink:href=\"#C0_0_9a88c68f7c\" x=\"269.583101\" y=\"306.74753\" style=\"fill: #440154; stroke: #440154\"/>\n    </g>\n    <g clip-path=\"url(#pde16af792c)\">\n     <use xlink:href=\"#C0_0_9a88c68f7c\" x=\"154.704437\" y=\"297.703843\" style=\"fill: #440154; stroke: #440154\"/>\n    </g>\n    <g clip-path=\"url(#pde16af792c)\">\n     <use xlink:href=\"#C0_0_9a88c68f7c\" x=\"596.684305\" y=\"124.864011\" style=\"fill: #fde725; stroke: #fde725\"/>\n    </g>\n    <g clip-path=\"url(#pde16af792c)\">\n     <use xlink:href=\"#C0_0_9a88c68f7c\" x=\"540.359091\" y=\"120.277568\" style=\"fill: #fde725; stroke: #fde725\"/>\n    </g>\n    <g clip-path=\"url(#pde16af792c)\">\n     <use xlink:href=\"#C0_0_9a88c68f7c\" x=\"280.409152\" y=\"238.715292\" style=\"fill: #440154; stroke: #440154\"/>\n    </g>\n    <g clip-path=\"url(#pde16af792c)\">\n     <use xlink:href=\"#C0_0_9a88c68f7c\" x=\"540.359091\" y=\"120.277568\" style=\"fill: #fde725; stroke: #fde725\"/>\n    </g>\n    <g clip-path=\"url(#pde16af792c)\">\n     <use xlink:href=\"#C0_0_9a88c68f7c\" x=\"222.228138\" y=\"234.201877\" style=\"fill: #440154; stroke: #440154\"/>\n    </g>\n    <g clip-path=\"url(#pde16af792c)\">\n     <use xlink:href=\"#C0_0_9a88c68f7c\" x=\"397.516052\" y=\"247.629781\" style=\"fill: #440154; stroke: #440154\"/>\n    </g>\n    <g clip-path=\"url(#pde16af792c)\">\n     <use xlink:href=\"#C0_0_9a88c68f7c\" x=\"284.493188\" y=\"238.513066\" style=\"fill: #440154; stroke: #440154\"/>\n    </g>\n    <g clip-path=\"url(#pde16af792c)\">\n     <use xlink:href=\"#C0_0_9a88c68f7c\" x=\"356.100926\" y=\"174.808875\" style=\"fill: #fde725; stroke: #fde725\"/>\n    </g>\n    <g clip-path=\"url(#pde16af792c)\">\n     <use xlink:href=\"#C0_0_9a88c68f7c\" x=\"453.655048\" y=\"252.244309\" style=\"fill: #440154; stroke: #440154\"/>\n    </g>\n    <g clip-path=\"url(#pde16af792c)\">\n     <use xlink:href=\"#C0_0_9a88c68f7c\" x=\"206.945614\" y=\"302.492511\" style=\"fill: #440154; stroke: #440154\"/>\n    </g>\n    <g clip-path=\"url(#pde16af792c)\">\n     <use xlink:href=\"#C0_0_9a88c68f7c\" x=\"494.883956\" y=\"325.0933\" style=\"fill: #440154; stroke: #440154\"/>\n    </g>\n    <g clip-path=\"url(#pde16af792c)\">\n     <use xlink:href=\"#C0_0_9a88c68f7c\" x=\"299.96193\" y=\"170.194347\" style=\"fill: #fde725; stroke: #fde725\"/>\n    </g>\n    <g clip-path=\"url(#pde16af792c)\">\n     <use xlink:href=\"#C0_0_9a88c68f7c\" x=\"314.872017\" y=\"101.959883\" style=\"fill: #fde725; stroke: #fde725\"/>\n    </g>\n    <g clip-path=\"url(#pde16af792c)\">\n     <use xlink:href=\"#C0_0_9a88c68f7c\" x=\"371.197231\" y=\"106.546326\" style=\"fill: #fde725; stroke: #fde725\"/>\n    </g>\n    <g clip-path=\"url(#pde16af792c)\">\n     <use xlink:href=\"#C0_0_9a88c68f7c\" x=\"453.655048\" y=\"252.244309\" style=\"fill: #440154; stroke: #440154\"/>\n    </g>\n    <g clip-path=\"url(#pde16af792c)\">\n     <use xlink:href=\"#C0_0_9a88c68f7c\" x=\"483.847659\" y=\"115.719211\" style=\"fill: #fde725; stroke: #fde725\"/>\n    </g>\n    <g clip-path=\"url(#pde16af792c)\">\n     <use xlink:href=\"#C0_0_9a88c68f7c\" x=\"284.679406\" y=\"238.484981\" style=\"fill: #440154; stroke: #440154\"/>\n    </g>\n    <g clip-path=\"url(#pde16af792c)\">\n     <use xlink:href=\"#C0_0_9a88c68f7c\" x=\"198.161582\" y=\"370.423636\" style=\"fill: #440154; stroke: #440154\"/>\n    </g>\n    <g clip-path=\"url(#pde16af792c)\">\n     <use xlink:href=\"#C0_0_9a88c68f7c\" x=\"284.493188\" y=\"238.513066\" style=\"fill: #440154; stroke: #440154\"/>\n    </g>\n    <g clip-path=\"url(#pde16af792c)\">\n     <use xlink:href=\"#C0_0_9a88c68f7c\" x=\"341.00462\" y=\"243.071424\" style=\"fill: #440154; stroke: #440154\"/>\n    </g>\n    <g clip-path=\"url(#pde16af792c)\">\n     <use xlink:href=\"#C0_0_9a88c68f7c\" x=\"269.396883\" y=\"306.775615\" style=\"fill: #440154; stroke: #440154\"/>\n    </g>\n    <g clip-path=\"url(#pde16af792c)\">\n     <use xlink:href=\"#C0_0_9a88c68f7c\" x=\"438.744961\" y=\"320.478772\" style=\"fill: #440154; stroke: #440154\"/>\n    </g>\n    <g clip-path=\"url(#pde16af792c)\">\n     <use xlink:href=\"#C0_0_9a88c68f7c\" x=\"637.913213\" y=\"197.713002\" style=\"fill: #fde725; stroke: #fde725\"/>\n    </g>\n    <g clip-path=\"url(#pde16af792c)\">\n     <use xlink:href=\"#C0_0_9a88c68f7c\" x=\"637.913213\" y=\"197.713002\" style=\"fill: #fde725; stroke: #fde725\"/>\n    </g>\n    <g clip-path=\"url(#pde16af792c)\">\n     <use xlink:href=\"#C0_0_9a88c68f7c\" x=\"89.384944\" y=\"83.642198\" style=\"fill: #fde725; stroke: #fde725\"/>\n    </g>\n    <g clip-path=\"url(#pde16af792c)\">\n     <use xlink:href=\"#C0_0_9a88c68f7c\" x=\"299.96193\" y=\"170.194347\" style=\"fill: #fde725; stroke: #fde725\"/>\n    </g>\n    <g clip-path=\"url(#pde16af792c)\">\n     <use xlink:href=\"#C0_0_9a88c68f7c\" x=\"411.000081\" y=\"111.969756\" style=\"fill: #440154; stroke: #440154\"/>\n    </g>\n    <g clip-path=\"url(#pde16af792c)\">\n     <use xlink:href=\"#C0_0_9a88c68f7c\" x=\"341.00462\" y=\"243.071424\" style=\"fill: #440154; stroke: #440154\"/>\n    </g>\n    <g clip-path=\"url(#pde16af792c)\">\n     <use xlink:href=\"#C0_0_9a88c68f7c\" x=\"282.637388\" y=\"238.586094\" style=\"fill: #440154; stroke: #440154\"/>\n    </g>\n    <g clip-path=\"url(#pde16af792c)\">\n     <use xlink:href=\"#C0_0_9a88c68f7c\" x=\"410.384121\" y=\"179.49643\" style=\"fill: #fde725; stroke: #fde725\"/>\n    </g>\n    <g clip-path=\"url(#pde16af792c)\">\n     <use xlink:href=\"#C0_0_9a88c68f7c\" x=\"468.751353\" y=\"183.98176\" style=\"fill: #fde725; stroke: #fde725\"/>\n    </g>\n    <g clip-path=\"url(#pde16af792c)\">\n     <use xlink:href=\"#C0_0_9a88c68f7c\" x=\"524.890349\" y=\"188.596288\" style=\"fill: #fde725; stroke: #fde725\"/>\n    </g>\n    <g clip-path=\"url(#pde16af792c)\">\n     <use xlink:href=\"#C0_0_9a88c68f7c\" x=\"263.457046\" y=\"307.050868\" style=\"fill: #440154; stroke: #440154\"/>\n    </g>\n    <g clip-path=\"url(#pde16af792c)\">\n     <use xlink:href=\"#C0_0_9a88c68f7c\" x=\"540.359091\" y=\"120.277568\" style=\"fill: #fde725; stroke: #fde725\"/>\n    </g>\n    <g clip-path=\"url(#pde16af792c)\">\n     <use xlink:href=\"#C0_0_9a88c68f7c\" x=\"172.028979\" y=\"229.312096\" style=\"fill: #440154; stroke: #440154\"/>\n    </g>\n    <g clip-path=\"url(#pde16af792c)\">\n     <use xlink:href=\"#C0_0_9a88c68f7c\" x=\"293.463439\" y=\"170.553856\" style=\"fill: #440154; stroke: #440154\"/>\n    </g>\n    <g clip-path=\"url(#pde16af792c)\">\n     <use xlink:href=\"#C0_0_9a88c68f7c\" x=\"59.378551\" y=\"220.139211\" style=\"fill: #440154; stroke: #440154\"/>\n    </g>\n    <g clip-path=\"url(#pde16af792c)\">\n     <use xlink:href=\"#C0_0_9a88c68f7c\" x=\"468.751353\" y=\"183.98176\" style=\"fill: #fde725; stroke: #fde725\"/>\n    </g>\n    <g clip-path=\"url(#pde16af792c)\">\n     <use xlink:href=\"#C0_0_9a88c68f7c\" x=\"185.083266\" y=\"161.15066\" style=\"fill: #fde725; stroke: #fde725\"/>\n    </g>\n    <g clip-path=\"url(#pde16af792c)\">\n     <use xlink:href=\"#C0_0_9a88c68f7c\" x=\"323.680078\" y=\"311.463171\" style=\"fill: #440154; stroke: #440154\"/>\n    </g>\n    <g clip-path=\"url(#pde16af792c)\">\n     <use xlink:href=\"#C0_0_9a88c68f7c\" x=\"540.172873\" y=\"120.305654\" style=\"fill: #fde725; stroke: #fde725\"/>\n    </g>\n    <g clip-path=\"url(#pde16af792c)\">\n     <use xlink:href=\"#C0_0_9a88c68f7c\" x=\"540.359091\" y=\"120.277568\" style=\"fill: #fde725; stroke: #fde725\"/>\n    </g>\n    <g clip-path=\"url(#pde16af792c)\">\n     <use xlink:href=\"#C0_0_9a88c68f7c\" x=\"269.583101\" y=\"306.74753\" style=\"fill: #440154; stroke: #440154\"/>\n    </g>\n    <g clip-path=\"url(#pde16af792c)\">\n     <use xlink:href=\"#C0_0_9a88c68f7c\" x=\"380.191511\" y=\"316.021528\" style=\"fill: #440154; stroke: #440154\"/>\n    </g>\n    <g clip-path=\"url(#pde16af792c)\">\n     <use xlink:href=\"#C0_0_9a88c68f7c\" x=\"525.262785\" y=\"188.540117\" style=\"fill: #fde725; stroke: #fde725\"/>\n    </g>\n    <g clip-path=\"url(#pde16af792c)\">\n     <use xlink:href=\"#C0_0_9a88c68f7c\" x=\"371.011013\" y=\"106.574411\" style=\"fill: #fde725; stroke: #fde725\"/>\n    </g>\n    <g clip-path=\"url(#pde16af792c)\">\n     <use xlink:href=\"#C0_0_9a88c68f7c\" x=\"353.872689\" y=\"174.938073\" style=\"fill: #fde725; stroke: #fde725\"/>\n    </g>\n    <g clip-path=\"url(#pde16af792c)\">\n     <use xlink:href=\"#C0_0_9a88c68f7c\" x=\"280.59537\" y=\"238.687207\" style=\"fill: #440154; stroke: #440154\"/>\n    </g>\n    <g clip-path=\"url(#pde16af792c)\">\n     <use xlink:href=\"#C0_0_9a88c68f7c\" x=\"89.571162\" y=\"83.614113\" style=\"fill: #fde725; stroke: #fde725\"/>\n    </g>\n    <g clip-path=\"url(#pde16af792c)\">\n     <use xlink:href=\"#C0_0_9a88c68f7c\" x=\"299.589494\" y=\"170.250517\" style=\"fill: #fde725; stroke: #fde725\"/>\n    </g>\n    <g clip-path=\"url(#pde16af792c)\">\n     <use xlink:href=\"#C0_0_9a88c68f7c\" x=\"395.101598\" y=\"247.787064\" style=\"fill: #440154; stroke: #440154\"/>\n    </g>\n    <g clip-path=\"url(#pde16af792c)\">\n     <use xlink:href=\"#C0_0_9a88c68f7c\" x=\"295.691675\" y=\"170.424658\" style=\"fill: #fde725; stroke: #fde725\"/>\n    </g>\n    <g clip-path=\"url(#pde16af792c)\">\n     <use xlink:href=\"#C0_0_9a88c68f7c\" x=\"369.155213\" y=\"106.647439\" style=\"fill: #fde725; stroke: #fde725\"/>\n    </g>\n    <g clip-path=\"url(#pde16af792c)\">\n     <use xlink:href=\"#C0_0_9a88c68f7c\" x=\"397.329834\" y=\"247.657866\" style=\"fill: #440154; stroke: #440154\"/>\n    </g>\n    <g clip-path=\"url(#pde16af792c)\">\n     <use xlink:href=\"#C0_0_9a88c68f7c\" x=\"397.329834\" y=\"247.657866\" style=\"fill: #440154; stroke: #440154\"/>\n    </g>\n    <g clip-path=\"url(#pde16af792c)\">\n     <use xlink:href=\"#C0_0_9a88c68f7c\" x=\"59.378551\" y=\"220.139211\" style=\"fill: #440154; stroke: #440154\"/>\n    </g>\n    <g clip-path=\"url(#pde16af792c)\">\n     <use xlink:href=\"#C0_0_9a88c68f7c\" x=\"412.42614\" y=\"179.395317\" style=\"fill: #fde725; stroke: #fde725\"/>\n    </g>\n    <g clip-path=\"url(#pde16af792c)\">\n     <use xlink:href=\"#C0_0_9a88c68f7c\" x=\"297.547475\" y=\"170.35163\" style=\"fill: #fde725; stroke: #fde725\"/>\n    </g>\n    <g clip-path=\"url(#pde16af792c)\">\n     <use xlink:href=\"#C0_0_9a88c68f7c\" x=\"341.00462\" y=\"243.071424\" style=\"fill: #440154; stroke: #440154\"/>\n    </g>\n    <g clip-path=\"url(#pde16af792c)\">\n     <use xlink:href=\"#C0_0_9a88c68f7c\" x=\"356.287144\" y=\"174.780789\" style=\"fill: #fde725; stroke: #fde725\"/>\n    </g>\n    <g clip-path=\"url(#pde16af792c)\">\n     <use xlink:href=\"#C0_0_9a88c68f7c\" x=\"169.800742\" y=\"229.441294\" style=\"fill: #440154; stroke: #440154\"/>\n    </g>\n    <g clip-path=\"url(#pde16af792c)\">\n     <use xlink:href=\"#C0_0_9a88c68f7c\" x=\"397.329834\" y=\"247.657866\" style=\"fill: #440154; stroke: #440154\"/>\n    </g>\n    <g clip-path=\"url(#pde16af792c)\">\n     <use xlink:href=\"#C0_0_9a88c68f7c\" x=\"395.287816\" y=\"247.758979\" style=\"fill: #440154; stroke: #440154\"/>\n    </g>\n    <g clip-path=\"url(#pde16af792c)\">\n     <use xlink:href=\"#C0_0_9a88c68f7c\" x=\"334.692347\" y=\"243.402847\" style=\"fill: #440154; stroke: #440154\"/>\n    </g>\n    <g clip-path=\"url(#pde16af792c)\">\n     <use xlink:href=\"#C0_0_9a88c68f7c\" x=\"341.00462\" y=\"243.071424\" style=\"fill: #440154; stroke: #440154\"/>\n    </g>\n    <g clip-path=\"url(#pde16af792c)\">\n     <use xlink:href=\"#C0_0_9a88c68f7c\" x=\"397.516052\" y=\"247.629781\" style=\"fill: #440154; stroke: #440154\"/>\n    </g>\n    <g clip-path=\"url(#pde16af792c)\">\n     <use xlink:href=\"#C0_0_9a88c68f7c\" x=\"156.932673\" y=\"297.574645\" style=\"fill: #440154; stroke: #440154\"/>\n    </g>\n    <g clip-path=\"url(#pde16af792c)\">\n     <use xlink:href=\"#C0_0_9a88c68f7c\" x=\"535.902618\" y=\"120.535964\" style=\"fill: #fde725; stroke: #fde725\"/>\n    </g>\n    <g clip-path=\"url(#pde16af792c)\">\n     <use xlink:href=\"#C0_0_9a88c68f7c\" x=\"228.540411\" y=\"233.870453\" style=\"fill: #440154; stroke: #440154\"/>\n    </g>\n    <g clip-path=\"url(#pde16af792c)\">\n     <use xlink:href=\"#C0_0_9a88c68f7c\" x=\"297.547475\" y=\"170.35163\" style=\"fill: #fde725; stroke: #fde725\"/>\n    </g>\n    <g clip-path=\"url(#pde16af792c)\">\n     <use xlink:href=\"#C0_0_9a88c68f7c\" x=\"566.491694\" y=\"261.389109\" style=\"fill: #440154; stroke: #440154\"/>\n    </g>\n    <g clip-path=\"url(#pde16af792c)\">\n     <use xlink:href=\"#C0_0_9a88c68f7c\" x=\"484.033877\" y=\"115.691126\" style=\"fill: #fde725; stroke: #fde725\"/>\n    </g>\n    <g clip-path=\"url(#pde16af792c)\">\n     <use xlink:href=\"#C0_0_9a88c68f7c\" x=\"284.493188\" y=\"238.513066\" style=\"fill: #440154; stroke: #440154\"/>\n    </g>\n    <g clip-path=\"url(#pde16af792c)\">\n     <use xlink:href=\"#C0_0_9a88c68f7c\" x=\"340.818402\" y=\"243.099509\" style=\"fill: #440154; stroke: #440154\"/>\n    </g>\n    <g clip-path=\"url(#pde16af792c)\">\n     <use xlink:href=\"#C0_0_9a88c68f7c\" x=\"581.401781\" y=\"193.154645\" style=\"fill: #fde725; stroke: #fde725\"/>\n    </g>\n    <g clip-path=\"url(#pde16af792c)\">\n     <use xlink:href=\"#C0_0_9a88c68f7c\" x=\"356.100926\" y=\"174.808875\" style=\"fill: #fde725; stroke: #fde725\"/>\n    </g>\n    <g clip-path=\"url(#pde16af792c)\">\n     <use xlink:href=\"#C0_0_9a88c68f7c\" x=\"356.100926\" y=\"174.808875\" style=\"fill: #fde725; stroke: #fde725\"/>\n    </g>\n    <g clip-path=\"url(#pde16af792c)\">\n     <use xlink:href=\"#C0_0_9a88c68f7c\" x=\"509.980262\" y=\"256.830751\" style=\"fill: #440154; stroke: #440154\"/>\n    </g>\n    <g clip-path=\"url(#pde16af792c)\">\n     <use xlink:href=\"#C0_0_9a88c68f7c\" x=\"254.276549\" y=\"97.603751\" style=\"fill: #fde725; stroke: #fde725\"/>\n    </g>\n    <g clip-path=\"url(#pde16af792c)\">\n     <use xlink:href=\"#C0_0_9a88c68f7c\" x=\"89.571162\" y=\"83.614113\" style=\"fill: #fde725; stroke: #fde725\"/>\n    </g>\n    <g clip-path=\"url(#pde16af792c)\">\n     <use xlink:href=\"#C0_0_9a88c68f7c\" x=\"341.00462\" y=\"243.071424\" style=\"fill: #440154; stroke: #440154\"/>\n    </g>\n    <g clip-path=\"url(#pde16af792c)\">\n     <use xlink:href=\"#C0_0_9a88c68f7c\" x=\"380.191511\" y=\"316.021528\" style=\"fill: #440154; stroke: #440154\"/>\n    </g>\n    <g clip-path=\"url(#pde16af792c)\">\n     <use xlink:href=\"#C0_0_9a88c68f7c\" x=\"269.769319\" y=\"306.719445\" style=\"fill: #440154; stroke: #440154\"/>\n    </g>\n    <g clip-path=\"url(#pde16af792c)\">\n     <use xlink:href=\"#C0_0_9a88c68f7c\" x=\"315.058235\" y=\"101.931798\" style=\"fill: #fde725; stroke: #fde725\"/>\n    </g>\n    <g clip-path=\"url(#pde16af792c)\">\n     <use xlink:href=\"#C0_0_9a88c68f7c\" x=\"445.300757\" y=\"252.676845\" style=\"fill: #440154; stroke: #440154\"/>\n    </g>\n    <g clip-path=\"url(#pde16af792c)\">\n     <use xlink:href=\"#C0_0_9a88c68f7c\" x=\"427.336227\" y=\"111.160854\" style=\"fill: #fde725; stroke: #fde725\"/>\n    </g>\n    <g clip-path=\"url(#pde16af792c)\">\n     <use xlink:href=\"#C0_0_9a88c68f7c\" x=\"551.20917\" y=\"329.679743\" style=\"fill: #440154; stroke: #440154\"/>\n    </g>\n    <g clip-path=\"url(#pde16af792c)\">\n     <use xlink:href=\"#C0_0_9a88c68f7c\" x=\"284.493188\" y=\"238.513066\" style=\"fill: #440154; stroke: #440154\"/>\n    </g>\n    <g clip-path=\"url(#pde16af792c)\">\n     <use xlink:href=\"#C0_0_9a88c68f7c\" x=\"314.685799\" y=\"101.987969\" style=\"fill: #fde725; stroke: #fde725\"/>\n    </g>\n    <g clip-path=\"url(#pde16af792c)\">\n     <use xlink:href=\"#C0_0_9a88c68f7c\" x=\"341.190839\" y=\"243.043338\" style=\"fill: #440154; stroke: #440154\"/>\n    </g>\n    <g clip-path=\"url(#pde16af792c)\">\n     <use xlink:href=\"#C0_0_9a88c68f7c\" x=\"341.190839\" y=\"243.043338\" style=\"fill: #440154; stroke: #440154\"/>\n    </g>\n    <g clip-path=\"url(#pde16af792c)\">\n     <use xlink:href=\"#C0_0_9a88c68f7c\" x=\"199.993353\" y=\"92.916196\" style=\"fill: #fde725; stroke: #fde725\"/>\n    </g>\n    <g clip-path=\"url(#pde16af792c)\">\n     <use xlink:href=\"#C0_0_9a88c68f7c\" x=\"356.100926\" y=\"174.808875\" style=\"fill: #fde725; stroke: #fde725\"/>\n    </g>\n    <g clip-path=\"url(#pde16af792c)\">\n     <use xlink:href=\"#C0_0_9a88c68f7c\" x=\"299.589494\" y=\"170.250517\" style=\"fill: #fde725; stroke: #fde725\"/>\n    </g>\n    <g clip-path=\"url(#pde16af792c)\">\n     <use xlink:href=\"#C0_0_9a88c68f7c\" x=\"282.45117\" y=\"238.614179\" style=\"fill: #440154; stroke: #440154\"/>\n    </g>\n    <g clip-path=\"url(#pde16af792c)\">\n     <use xlink:href=\"#C0_0_9a88c68f7c\" x=\"341.190839\" y=\"243.043338\" style=\"fill: #440154; stroke: #440154\"/>\n    </g>\n    <g clip-path=\"url(#pde16af792c)\">\n     <use xlink:href=\"#C0_0_9a88c68f7c\" x=\"332.650329\" y=\"243.50396\" style=\"fill: #440154; stroke: #440154\"/>\n    </g>\n    <g clip-path=\"url(#pde16af792c)\">\n     <use xlink:href=\"#C0_0_9a88c68f7c\" x=\"172.215197\" y=\"229.28401\" style=\"fill: #440154; stroke: #440154\"/>\n    </g>\n    <g clip-path=\"url(#pde16af792c)\">\n     <use xlink:href=\"#C0_0_9a88c68f7c\" x=\"397.329834\" y=\"247.657866\" style=\"fill: #440154; stroke: #440154\"/>\n    </g>\n    <g clip-path=\"url(#pde16af792c)\">\n     <use xlink:href=\"#C0_0_9a88c68f7c\" x=\"356.287144\" y=\"174.780789\" style=\"fill: #fde725; stroke: #fde725\"/>\n    </g>\n    <g clip-path=\"url(#pde16af792c)\">\n     <use xlink:href=\"#C0_0_9a88c68f7c\" x=\"397.329834\" y=\"247.657866\" style=\"fill: #440154; stroke: #440154\"/>\n    </g>\n    <g clip-path=\"url(#pde16af792c)\">\n     <use xlink:href=\"#C0_0_9a88c68f7c\" x=\"217.504113\" y=\"24.496364\" style=\"fill: #fde725; stroke: #fde725\"/>\n    </g>\n    <g clip-path=\"url(#pde16af792c)\">\n     <use xlink:href=\"#C0_0_9a88c68f7c\" x=\"371.011013\" y=\"106.574411\" style=\"fill: #fde725; stroke: #fde725\"/>\n    </g>\n    <g clip-path=\"url(#pde16af792c)\">\n     <use xlink:href=\"#C0_0_9a88c68f7c\" x=\"356.100926\" y=\"174.808875\" style=\"fill: #fde725; stroke: #fde725\"/>\n    </g>\n    <g clip-path=\"url(#pde16af792c)\">\n     <use xlink:href=\"#C0_0_9a88c68f7c\" x=\"146.082594\" y=\"88.17247\" style=\"fill: #fde725; stroke: #fde725\"/>\n    </g>\n    <g clip-path=\"url(#pde16af792c)\">\n     <use xlink:href=\"#C0_0_9a88c68f7c\" x=\"412.42614\" y=\"179.395317\" style=\"fill: #fde725; stroke: #fde725\"/>\n    </g>\n    <g clip-path=\"url(#pde16af792c)\">\n     <use xlink:href=\"#C0_0_9a88c68f7c\" x=\"356.287144\" y=\"174.780789\" style=\"fill: #fde725; stroke: #fde725\"/>\n    </g>\n    <g clip-path=\"url(#pde16af792c)\">\n     <use xlink:href=\"#C0_0_9a88c68f7c\" x=\"412.239921\" y=\"179.423403\" style=\"fill: #fde725; stroke: #fde725\"/>\n    </g>\n    <g clip-path=\"url(#pde16af792c)\">\n     <use xlink:href=\"#C0_0_9a88c68f7c\" x=\"395.287816\" y=\"247.758979\" style=\"fill: #440154; stroke: #440154\"/>\n    </g>\n    <g clip-path=\"url(#pde16af792c)\">\n     <use xlink:href=\"#C0_0_9a88c68f7c\" x=\"243.450498\" y=\"165.63599\" style=\"fill: #fde725; stroke: #fde725\"/>\n    </g>\n    <g clip-path=\"url(#pde16af792c)\">\n     <use xlink:href=\"#C0_0_9a88c68f7c\" x=\"382.047311\" y=\"315.948501\" style=\"fill: #440154; stroke: #440154\"/>\n    </g>\n    <g clip-path=\"url(#pde16af792c)\">\n     <use xlink:href=\"#C0_0_9a88c68f7c\" x=\"315.058235\" y=\"101.931798\" style=\"fill: #fde725; stroke: #fde725\"/>\n    </g>\n    <g clip-path=\"url(#pde16af792c)\">\n     <use xlink:href=\"#C0_0_9a88c68f7c\" x=\"371.011013\" y=\"106.574411\" style=\"fill: #fde725; stroke: #fde725\"/>\n    </g>\n    <g clip-path=\"url(#pde16af792c)\">\n     <use xlink:href=\"#C0_0_9a88c68f7c\" x=\"284.679406\" y=\"238.484981\" style=\"fill: #440154; stroke: #440154\"/>\n    </g>\n    <g clip-path=\"url(#pde16af792c)\">\n     <use xlink:href=\"#C0_0_9a88c68f7c\" x=\"325.908315\" y=\"311.333973\" style=\"fill: #440154; stroke: #440154\"/>\n    </g>\n    <g clip-path=\"url(#pde16af792c)\">\n     <use xlink:href=\"#C0_0_9a88c68f7c\" x=\"397.329834\" y=\"247.657866\" style=\"fill: #440154; stroke: #440154\"/>\n    </g>\n    <g clip-path=\"url(#pde16af792c)\">\n     <use xlink:href=\"#C0_0_9a88c68f7c\" x=\"382.233529\" y=\"315.920415\" style=\"fill: #440154; stroke: #440154\"/>\n    </g>\n    <g clip-path=\"url(#pde16af792c)\">\n     <use xlink:href=\"#C0_0_9a88c68f7c\" x=\"509.980262\" y=\"256.830751\" style=\"fill: #440154; stroke: #440154\"/>\n    </g>\n    <g clip-path=\"url(#pde16af792c)\">\n     <use xlink:href=\"#C0_0_9a88c68f7c\" x=\"468.751353\" y=\"183.98176\" style=\"fill: #fde725; stroke: #fde725\"/>\n    </g>\n    <g clip-path=\"url(#pde16af792c)\">\n     <use xlink:href=\"#C0_0_9a88c68f7c\" x=\"356.287144\" y=\"174.780789\" style=\"fill: #fde725; stroke: #fde725\"/>\n    </g>\n    <g clip-path=\"url(#pde16af792c)\">\n     <use xlink:href=\"#C0_0_9a88c68f7c\" x=\"427.522445\" y=\"111.132768\" style=\"fill: #fde725; stroke: #fde725\"/>\n    </g>\n    <g clip-path=\"url(#pde16af792c)\">\n     <use xlink:href=\"#C0_0_9a88c68f7c\" x=\"202.22159\" y=\"92.786998\" style=\"fill: #fde725; stroke: #fde725\"/>\n    </g>\n    <g clip-path=\"url(#pde16af792c)\">\n     <use xlink:href=\"#C0_0_9a88c68f7c\" x=\"438.372524\" y=\"320.534943\" style=\"fill: #440154; stroke: #440154\"/>\n    </g>\n    <g clip-path=\"url(#pde16af792c)\">\n     <use xlink:href=\"#C0_0_9a88c68f7c\" x=\"276.325115\" y=\"238.917517\" style=\"fill: #440154; stroke: #440154\"/>\n    </g>\n    <g clip-path=\"url(#pde16af792c)\">\n     <use xlink:href=\"#C0_0_9a88c68f7c\" x=\"314.872017\" y=\"101.959883\" style=\"fill: #fde725; stroke: #fde725\"/>\n    </g>\n    <g clip-path=\"url(#pde16af792c)\">\n     <use xlink:href=\"#C0_0_9a88c68f7c\" x=\"182.855029\" y=\"161.279858\" style=\"fill: #fde725; stroke: #fde725\"/>\n    </g>\n    <g clip-path=\"url(#pde16af792c)\">\n     <use xlink:href=\"#C0_0_9a88c68f7c\" x=\"299.589494\" y=\"170.250517\" style=\"fill: #fde725; stroke: #fde725\"/>\n    </g>\n    <g clip-path=\"url(#pde16af792c)\">\n     <use xlink:href=\"#C0_0_9a88c68f7c\" x=\"555.269178\" y=\"52.043105\" style=\"fill: #fde725; stroke: #fde725\"/>\n    </g>\n    <g clip-path=\"url(#pde16af792c)\">\n     <use xlink:href=\"#C0_0_9a88c68f7c\" x=\"156.932673\" y=\"297.574645\" style=\"fill: #440154; stroke: #440154\"/>\n    </g>\n    <g clip-path=\"url(#pde16af792c)\">\n     <use xlink:href=\"#C0_0_9a88c68f7c\" x=\"284.679406\" y=\"238.484981\" style=\"fill: #440154; stroke: #440154\"/>\n    </g>\n    <g clip-path=\"url(#pde16af792c)\">\n     <use xlink:href=\"#C0_0_9a88c68f7c\" x=\"284.865625\" y=\"238.456896\" style=\"fill: #440154; stroke: #440154\"/>\n    </g>\n    <g clip-path=\"url(#pde16af792c)\">\n     <use xlink:href=\"#C0_0_9a88c68f7c\" x=\"483.847659\" y=\"115.719211\" style=\"fill: #fde725; stroke: #fde725\"/>\n    </g>\n    <g clip-path=\"url(#pde16af792c)\">\n     <use xlink:href=\"#C0_0_9a88c68f7c\" x=\"509.980262\" y=\"256.830751\" style=\"fill: #440154; stroke: #440154\"/>\n    </g>\n    <g clip-path=\"url(#pde16af792c)\">\n     <use xlink:href=\"#C0_0_9a88c68f7c\" x=\"427.708663\" y=\"111.104683\" style=\"fill: #fde725; stroke: #fde725\"/>\n    </g>\n    <g clip-path=\"url(#pde16af792c)\">\n     <use xlink:href=\"#C0_0_9a88c68f7c\" x=\"525.262785\" y=\"188.540117\" style=\"fill: #fde725; stroke: #fde725\"/>\n    </g>\n    <g clip-path=\"url(#pde16af792c)\">\n     <use xlink:href=\"#C0_0_9a88c68f7c\" x=\"356.287144\" y=\"174.780789\" style=\"fill: #fde725; stroke: #fde725\"/>\n    </g>\n    <g clip-path=\"url(#pde16af792c)\">\n     <use xlink:href=\"#C0_0_9a88c68f7c\" x=\"293.463439\" y=\"170.553856\" style=\"fill: #440154; stroke: #440154\"/>\n    </g>\n    <g clip-path=\"url(#pde16af792c)\">\n     <use xlink:href=\"#C0_0_9a88c68f7c\" x=\"525.076567\" y=\"188.568203\" style=\"fill: #fde725; stroke: #fde725\"/>\n    </g>\n    <g clip-path=\"url(#pde16af792c)\">\n     <use xlink:href=\"#C0_0_9a88c68f7c\" x=\"284.865625\" y=\"238.456896\" style=\"fill: #440154; stroke: #440154\"/>\n    </g>\n    <g clip-path=\"url(#pde16af792c)\">\n     <use xlink:href=\"#C0_0_9a88c68f7c\" x=\"668.105824\" y=\"61.187904\" style=\"fill: #fde725; stroke: #fde725\"/>\n    </g>\n    <g clip-path=\"url(#pde16af792c)\">\n     <use xlink:href=\"#C0_0_9a88c68f7c\" x=\"340.818402\" y=\"243.099509\" style=\"fill: #440154; stroke: #440154\"/>\n    </g>\n    <g clip-path=\"url(#pde16af792c)\">\n     <use xlink:href=\"#C0_0_9a88c68f7c\" x=\"355.914707\" y=\"174.83696\" style=\"fill: #fde725; stroke: #fde725\"/>\n    </g>\n    <g clip-path=\"url(#pde16af792c)\">\n     <use xlink:href=\"#C0_0_9a88c68f7c\" x=\"187.125284\" y=\"161.049547\" style=\"fill: #fde725; stroke: #fde725\"/>\n    </g>\n    <g clip-path=\"url(#pde16af792c)\">\n     <use xlink:href=\"#C0_0_9a88c68f7c\" x=\"371.011013\" y=\"106.574411\" style=\"fill: #fde725; stroke: #fde725\"/>\n    </g>\n    <g clip-path=\"url(#pde16af792c)\">\n     <use xlink:href=\"#C0_0_9a88c68f7c\" x=\"282.637388\" y=\"238.586094\" style=\"fill: #440154; stroke: #440154\"/>\n    </g>\n    <g clip-path=\"url(#pde16af792c)\">\n     <use xlink:href=\"#C0_0_9a88c68f7c\" x=\"412.42614\" y=\"179.395317\" style=\"fill: #fde725; stroke: #fde725\"/>\n    </g>\n    <g clip-path=\"url(#pde16af792c)\">\n     <use xlink:href=\"#C0_0_9a88c68f7c\" x=\"442.432532\" y=\"42.898305\" style=\"fill: #fde725; stroke: #fde725\"/>\n    </g>\n    <g clip-path=\"url(#pde16af792c)\">\n     <use xlink:href=\"#C0_0_9a88c68f7c\" x=\"326.094533\" y=\"311.305887\" style=\"fill: #440154; stroke: #440154\"/>\n    </g>\n    <g clip-path=\"url(#pde16af792c)\">\n     <use xlink:href=\"#C0_0_9a88c68f7c\" x=\"314.872017\" y=\"101.959883\" style=\"fill: #fde725; stroke: #fde725\"/>\n    </g>\n    <g clip-path=\"url(#pde16af792c)\">\n     <use xlink:href=\"#C0_0_9a88c68f7c\" x=\"395.287816\" y=\"247.758979\" style=\"fill: #440154; stroke: #440154\"/>\n    </g>\n    <g clip-path=\"url(#pde16af792c)\">\n     <use xlink:href=\"#C0_0_9a88c68f7c\" x=\"293.463439\" y=\"170.553856\" style=\"fill: #440154; stroke: #440154\"/>\n    </g>\n    <g clip-path=\"url(#pde16af792c)\">\n     <use xlink:href=\"#C0_0_9a88c68f7c\" x=\"637.726995\" y=\"197.741088\" style=\"fill: #fde725; stroke: #fde725\"/>\n    </g>\n    <g clip-path=\"url(#pde16af792c)\">\n     <use xlink:href=\"#C0_0_9a88c68f7c\" x=\"397.143616\" y=\"247.685952\" style=\"fill: #440154; stroke: #440154\"/>\n    </g>\n    <g clip-path=\"url(#pde16af792c)\">\n     <use xlink:href=\"#C0_0_9a88c68f7c\" x=\"213.071669\" y=\"302.189173\" style=\"fill: #440154; stroke: #440154\"/>\n    </g>\n    <g clip-path=\"url(#pde16af792c)\">\n     <use xlink:href=\"#C0_0_9a88c68f7c\" x=\"315.058235\" y=\"101.931798\" style=\"fill: #fde725; stroke: #fde725\"/>\n    </g>\n    <g clip-path=\"url(#pde16af792c)\">\n     <use xlink:href=\"#C0_0_9a88c68f7c\" x=\"427.708663\" y=\"111.104683\" style=\"fill: #fde725; stroke: #fde725\"/>\n    </g>\n    <g clip-path=\"url(#pde16af792c)\">\n     <use xlink:href=\"#C0_0_9a88c68f7c\" x=\"351.830671\" y=\"175.039186\" style=\"fill: #fde725; stroke: #fde725\"/>\n    </g>\n    <g clip-path=\"url(#pde16af792c)\">\n     <use xlink:href=\"#C0_0_9a88c68f7c\" x=\"233.054189\" y=\"166.169639\" style=\"fill: #440154; stroke: #440154\"/>\n    </g>\n    <g clip-path=\"url(#pde16af792c)\">\n     <use xlink:href=\"#C0_0_9a88c68f7c\" x=\"380.191511\" y=\"316.021528\" style=\"fill: #440154; stroke: #440154\"/>\n    </g>\n    <g clip-path=\"url(#pde16af792c)\">\n     <use xlink:href=\"#C0_0_9a88c68f7c\" x=\"393.245798\" y=\"247.860092\" style=\"fill: #440154; stroke: #440154\"/>\n    </g>\n    <g clip-path=\"url(#pde16af792c)\">\n     <use xlink:href=\"#C0_0_9a88c68f7c\" x=\"243.26428\" y=\"165.664075\" style=\"fill: #fde725; stroke: #fde725\"/>\n    </g>\n    <g clip-path=\"url(#pde16af792c)\">\n     <use xlink:href=\"#C0_0_9a88c68f7c\" x=\"243.450498\" y=\"165.63599\" style=\"fill: #fde725; stroke: #fde725\"/>\n    </g>\n    <g clip-path=\"url(#pde16af792c)\">\n     <use xlink:href=\"#C0_0_9a88c68f7c\" x=\"341.00462\" y=\"243.071424\" style=\"fill: #440154; stroke: #440154\"/>\n    </g>\n    <g clip-path=\"url(#pde16af792c)\">\n     <use xlink:href=\"#C0_0_9a88c68f7c\" x=\"228.354193\" y=\"233.898538\" style=\"fill: #440154; stroke: #440154\"/>\n    </g>\n    <g clip-path=\"url(#pde16af792c)\">\n     <use xlink:href=\"#C0_0_9a88c68f7c\" x=\"297.733694\" y=\"170.323545\" style=\"fill: #fde725; stroke: #fde725\"/>\n    </g>\n    <g clip-path=\"url(#pde16af792c)\">\n     <use xlink:href=\"#C0_0_9a88c68f7c\" x=\"397.329834\" y=\"247.657866\" style=\"fill: #440154; stroke: #440154\"/>\n    </g>\n    <g clip-path=\"url(#pde16af792c)\">\n     <use xlink:href=\"#C0_0_9a88c68f7c\" x=\"483.66144\" y=\"115.747296\" style=\"fill: #fde725; stroke: #fde725\"/>\n    </g>\n    <g clip-path=\"url(#pde16af792c)\">\n     <use xlink:href=\"#C0_0_9a88c68f7c\" x=\"295.691675\" y=\"170.424658\" style=\"fill: #fde725; stroke: #fde725\"/>\n    </g>\n    <g clip-path=\"url(#pde16af792c)\">\n     <use xlink:href=\"#C0_0_9a88c68f7c\" x=\"354.058907\" y=\"174.909987\" style=\"fill: #fde725; stroke: #fde725\"/>\n    </g>\n    <g clip-path=\"url(#pde16af792c)\">\n     <use xlink:href=\"#C0_0_9a88c68f7c\" x=\"265.499065\" y=\"306.949756\" style=\"fill: #440154; stroke: #440154\"/>\n    </g>\n    <g clip-path=\"url(#pde16af792c)\">\n     <use xlink:href=\"#C0_0_9a88c68f7c\" x=\"468.751353\" y=\"183.98176\" style=\"fill: #fde725; stroke: #fde725\"/>\n    </g>\n    <g clip-path=\"url(#pde16af792c)\">\n     <use xlink:href=\"#C0_0_9a88c68f7c\" x=\"186.939066\" y=\"161.077632\" style=\"fill: #fde725; stroke: #fde725\"/>\n    </g>\n   </g>\n   <g id=\"matplotlib.axis_1\">\n    <g id=\"xtick_1\">\n     <g id=\"line2d_1\">\n      <defs>\n       <path id=\"m6da9aa78e4\" d=\"M 0 0 \nL 0 3.5 \n\" style=\"stroke: #000000; stroke-width: 0.8\"/>\n      </defs>\n      <g>\n       <use xlink:href=\"#m6da9aa78e4\" x=\"116.680755\" y=\"387.72\" style=\"stroke: #000000; stroke-width: 0.8\"/>\n      </g>\n     </g>\n     <g id=\"text_1\">\n      <!-- −2 -->\n      <g transform=\"translate(109.309661 402.318437)scale(0.1 -0.1)\">\n       <defs>\n        <path id=\"DejaVuSans-2212\" d=\"M 678 2272 \nL 4684 2272 \nL 4684 1741 \nL 678 1741 \nL 678 2272 \nz\n\" transform=\"scale(0.015625)\"/>\n        <path id=\"DejaVuSans-32\" d=\"M 1228 531 \nL 3431 531 \nL 3431 0 \nL 469 0 \nL 469 531 \nQ 828 903 1448 1529 \nQ 2069 2156 2228 2338 \nQ 2531 2678 2651 2914 \nQ 2772 3150 2772 3378 \nQ 2772 3750 2511 3984 \nQ 2250 4219 1831 4219 \nQ 1534 4219 1204 4116 \nQ 875 4013 500 3803 \nL 500 4441 \nQ 881 4594 1212 4672 \nQ 1544 4750 1819 4750 \nQ 2544 4750 2975 4387 \nQ 3406 4025 3406 3419 \nQ 3406 3131 3298 2873 \nQ 3191 2616 2906 2266 \nQ 2828 2175 2409 1742 \nQ 1991 1309 1228 531 \nz\n\" transform=\"scale(0.015625)\"/>\n       </defs>\n       <use xlink:href=\"#DejaVuSans-2212\"/>\n       <use xlink:href=\"#DejaVuSans-32\" x=\"83.789062\"/>\n      </g>\n     </g>\n    </g>\n    <g id=\"xtick_2\">\n     <g id=\"line2d_2\">\n      <g>\n       <use xlink:href=\"#m6da9aa78e4\" x=\"236.665145\" y=\"387.72\" style=\"stroke: #000000; stroke-width: 0.8\"/>\n      </g>\n     </g>\n     <g id=\"text_2\">\n      <!-- −1 -->\n      <g transform=\"translate(229.294051 402.318437)scale(0.1 -0.1)\">\n       <defs>\n        <path id=\"DejaVuSans-31\" d=\"M 794 531 \nL 1825 531 \nL 1825 4091 \nL 703 3866 \nL 703 4441 \nL 1819 4666 \nL 2450 4666 \nL 2450 531 \nL 3481 531 \nL 3481 0 \nL 794 0 \nL 794 531 \nz\n\" transform=\"scale(0.015625)\"/>\n       </defs>\n       <use xlink:href=\"#DejaVuSans-2212\"/>\n       <use xlink:href=\"#DejaVuSans-31\" x=\"83.789062\"/>\n      </g>\n     </g>\n    </g>\n    <g id=\"xtick_3\">\n     <g id=\"line2d_3\">\n      <g>\n       <use xlink:href=\"#m6da9aa78e4\" x=\"356.649535\" y=\"387.72\" style=\"stroke: #000000; stroke-width: 0.8\"/>\n      </g>\n     </g>\n     <g id=\"text_3\">\n      <!-- 0 -->\n      <g transform=\"translate(353.468285 402.318437)scale(0.1 -0.1)\">\n       <defs>\n        <path id=\"DejaVuSans-30\" d=\"M 2034 4250 \nQ 1547 4250 1301 3770 \nQ 1056 3291 1056 2328 \nQ 1056 1369 1301 889 \nQ 1547 409 2034 409 \nQ 2525 409 2770 889 \nQ 3016 1369 3016 2328 \nQ 3016 3291 2770 3770 \nQ 2525 4250 2034 4250 \nz\nM 2034 4750 \nQ 2819 4750 3233 4129 \nQ 3647 3509 3647 2328 \nQ 3647 1150 3233 529 \nQ 2819 -91 2034 -91 \nQ 1250 -91 836 529 \nQ 422 1150 422 2328 \nQ 422 3509 836 4129 \nQ 1250 4750 2034 4750 \nz\n\" transform=\"scale(0.015625)\"/>\n       </defs>\n       <use xlink:href=\"#DejaVuSans-30\"/>\n      </g>\n     </g>\n    </g>\n    <g id=\"xtick_4\">\n     <g id=\"line2d_4\">\n      <g>\n       <use xlink:href=\"#m6da9aa78e4\" x=\"476.633925\" y=\"387.72\" style=\"stroke: #000000; stroke-width: 0.8\"/>\n      </g>\n     </g>\n     <g id=\"text_4\">\n      <!-- 1 -->\n      <g transform=\"translate(473.452675 402.318437)scale(0.1 -0.1)\">\n       <use xlink:href=\"#DejaVuSans-31\"/>\n      </g>\n     </g>\n    </g>\n    <g id=\"xtick_5\">\n     <g id=\"line2d_5\">\n      <g>\n       <use xlink:href=\"#m6da9aa78e4\" x=\"596.618315\" y=\"387.72\" style=\"stroke: #000000; stroke-width: 0.8\"/>\n      </g>\n     </g>\n     <g id=\"text_5\">\n      <!-- 2 -->\n      <g transform=\"translate(593.437065 402.318437)scale(0.1 -0.1)\">\n       <use xlink:href=\"#DejaVuSans-32\"/>\n      </g>\n     </g>\n    </g>\n   </g>\n   <g id=\"matplotlib.axis_2\">\n    <g id=\"ytick_1\">\n     <g id=\"line2d_6\">\n      <defs>\n       <path id=\"m61c288ed50\" d=\"M 0 0 \nL -3.5 0 \n\" style=\"stroke: #000000; stroke-width: 0.8\"/>\n      </defs>\n      <g>\n       <use xlink:href=\"#m61c288ed50\" x=\"28.942188\" y=\"337.364107\" style=\"stroke: #000000; stroke-width: 0.8\"/>\n      </g>\n     </g>\n     <g id=\"text_6\">\n      <!-- −2 -->\n      <g transform=\"translate(7.2 341.163325)scale(0.1 -0.1)\">\n       <use xlink:href=\"#DejaVuSans-2212\"/>\n       <use xlink:href=\"#DejaVuSans-32\" x=\"83.789062\"/>\n      </g>\n     </g>\n    </g>\n    <g id=\"ytick_2\">\n     <g id=\"line2d_7\">\n      <g>\n       <use xlink:href=\"#m61c288ed50\" x=\"28.942188\" y=\"267.842966\" style=\"stroke: #000000; stroke-width: 0.8\"/>\n      </g>\n     </g>\n     <g id=\"text_7\">\n      <!-- −1 -->\n      <g transform=\"translate(7.2 271.642185)scale(0.1 -0.1)\">\n       <use xlink:href=\"#DejaVuSans-2212\"/>\n       <use xlink:href=\"#DejaVuSans-31\" x=\"83.789062\"/>\n      </g>\n     </g>\n    </g>\n    <g id=\"ytick_3\">\n     <g id=\"line2d_8\">\n      <g>\n       <use xlink:href=\"#m61c288ed50\" x=\"28.942188\" y=\"198.321825\" style=\"stroke: #000000; stroke-width: 0.8\"/>\n      </g>\n     </g>\n     <g id=\"text_8\">\n      <!-- 0 -->\n      <g transform=\"translate(15.579688 202.121044)scale(0.1 -0.1)\">\n       <use xlink:href=\"#DejaVuSans-30\"/>\n      </g>\n     </g>\n    </g>\n    <g id=\"ytick_4\">\n     <g id=\"line2d_9\">\n      <g>\n       <use xlink:href=\"#m61c288ed50\" x=\"28.942188\" y=\"128.800685\" style=\"stroke: #000000; stroke-width: 0.8\"/>\n      </g>\n     </g>\n     <g id=\"text_9\">\n      <!-- 1 -->\n      <g transform=\"translate(15.579688 132.599903)scale(0.1 -0.1)\">\n       <use xlink:href=\"#DejaVuSans-31\"/>\n      </g>\n     </g>\n    </g>\n    <g id=\"ytick_5\">\n     <g id=\"line2d_10\">\n      <g>\n       <use xlink:href=\"#m61c288ed50\" x=\"28.942188\" y=\"59.279544\" style=\"stroke: #000000; stroke-width: 0.8\"/>\n      </g>\n     </g>\n     <g id=\"text_10\">\n      <!-- 2 -->\n      <g transform=\"translate(15.579688 63.078763)scale(0.1 -0.1)\">\n       <use xlink:href=\"#DejaVuSans-32\"/>\n      </g>\n     </g>\n    </g>\n   </g>\n   <g id=\"patch_3\">\n    <path d=\"M 28.942188 387.72 \nL 28.942188 7.2 \n\" style=\"fill: none; stroke: #000000; stroke-width: 0.8; stroke-linejoin: miter; stroke-linecap: square\"/>\n   </g>\n   <g id=\"patch_4\">\n    <path d=\"M 698.542188 387.72 \nL 698.542188 7.2 \n\" style=\"fill: none; stroke: #000000; stroke-width: 0.8; stroke-linejoin: miter; stroke-linecap: square\"/>\n   </g>\n   <g id=\"patch_5\">\n    <path d=\"M 28.942187 387.72 \nL 698.542187 387.72 \n\" style=\"fill: none; stroke: #000000; stroke-width: 0.8; stroke-linejoin: miter; stroke-linecap: square\"/>\n   </g>\n   <g id=\"patch_6\">\n    <path d=\"M 28.942187 7.2 \nL 698.542187 7.2 \n\" style=\"fill: none; stroke: #000000; stroke-width: 0.8; stroke-linejoin: miter; stroke-linecap: square\"/>\n   </g>\n  </g>\n </g>\n <defs>\n  <clipPath id=\"pde16af792c\">\n   <rect x=\"28.942188\" y=\"7.2\" width=\"669.6\" height=\"380.52\"/>\n  </clipPath>\n </defs>\n</svg>\n",
      "text/plain": [
       "<Figure size 864x504 with 1 Axes>"
      ]
     },
     "metadata": {
      "needs_background": "light"
     },
     "output_type": "display_data"
    }
   ],
   "source": [
    "fig = plt.figure(figsize = (12,7))\n",
    "\n",
    "ax = fig.add_subplot()\n",
    "\n",
    "ax.scatter(x = transf_data[:, 0] , y=transf_data[: , 1], c=pred)\n",
    "\n",
    "plt.show()"
   ]
  }
 ],
 "metadata": {
  "interpreter": {
   "hash": "aee8b7b246df8f9039afb4144a1f6fd8d2ca17a180786b69acc140d282b71a49"
  },
  "kernelspec": {
   "display_name": "Python 3.10.4 64-bit",
   "language": "python",
   "name": "python3"
  },
  "language_info": {
   "codemirror_mode": {
    "name": "ipython",
    "version": 3
   },
   "file_extension": ".py",
   "mimetype": "text/x-python",
   "name": "python",
   "nbconvert_exporter": "python",
   "pygments_lexer": "ipython3",
   "version": "3.10.4"
  },
  "orig_nbformat": 4
 },
 "nbformat": 4,
 "nbformat_minor": 2
}
