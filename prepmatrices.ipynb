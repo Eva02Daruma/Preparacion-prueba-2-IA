{
 "cells": [
  {
   "cell_type": "markdown",
   "metadata": {},
   "source": [
    "### Matriz varianza y covariante"
   ]
  },
  {
   "cell_type": "code",
   "execution_count": 71,
   "metadata": {},
   "outputs": [],
   "source": [
    "import numpy as np\n",
    "import pandas as pd\n",
    "import matplotlib as plt\n",
    "import seaborn as slp"
   ]
  },
  {
   "cell_type": "code",
   "execution_count": 58,
   "metadata": {},
   "outputs": [
    {
     "data": {
      "text/html": [
       "<div>\n",
       "<style scoped>\n",
       "    .dataframe tbody tr th:only-of-type {\n",
       "        vertical-align: middle;\n",
       "    }\n",
       "\n",
       "    .dataframe tbody tr th {\n",
       "        vertical-align: top;\n",
       "    }\n",
       "\n",
       "    .dataframe thead th {\n",
       "        text-align: right;\n",
       "    }\n",
       "</style>\n",
       "<table border=\"1\" class=\"dataframe\">\n",
       "  <thead>\n",
       "    <tr style=\"text-align: right;\">\n",
       "      <th></th>\n",
       "      <th>0</th>\n",
       "      <th>1</th>\n",
       "      <th>2</th>\n",
       "      <th>3</th>\n",
       "      <th>4</th>\n",
       "      <th>5</th>\n",
       "      <th>6</th>\n",
       "      <th>7</th>\n",
       "    </tr>\n",
       "  </thead>\n",
       "  <tbody>\n",
       "    <tr>\n",
       "      <th>0</th>\n",
       "      <td>84</td>\n",
       "      <td>82</td>\n",
       "      <td>81</td>\n",
       "      <td>89</td>\n",
       "      <td>73</td>\n",
       "      <td>94</td>\n",
       "      <td>92</td>\n",
       "      <td>70</td>\n",
       "    </tr>\n",
       "    <tr>\n",
       "      <th>1</th>\n",
       "      <td>85</td>\n",
       "      <td>82</td>\n",
       "      <td>72</td>\n",
       "      <td>77</td>\n",
       "      <td>75</td>\n",
       "      <td>89</td>\n",
       "      <td>95</td>\n",
       "      <td>84</td>\n",
       "    </tr>\n",
       "  </tbody>\n",
       "</table>\n",
       "</div>"
      ],
      "text/plain": [
       "    0   1   2   3   4   5   6   7\n",
       "0  84  82  81  89  73  94  92  70\n",
       "1  85  82  72  77  75  89  95  84"
      ]
     },
     "execution_count": 58,
     "metadata": {},
     "output_type": "execute_result"
    }
   ],
   "source": [
    "#Arreglo\n",
    "#datos = np.array(np.random.random((4, 3)))\n",
    "\n",
    "matemáticas = [84, 82, 81, 89, 73, 94, 92, 70]\n",
    "ciencia = [85, 82, 72, 77, 75, 89, 95, 84]\n",
    "\n",
    "\n",
    "datos = np.array ([matemáticas, ciencia])\n",
    "datos = pd.DataFrame(datos)\n",
    "\n",
    "datos.head()\n"
   ]
  },
  {
   "cell_type": "markdown",
   "metadata": {},
   "source": [
    "### Varianza y covarianza de la matriz"
   ]
  },
  {
   "cell_type": "code",
   "execution_count": 65,
   "metadata": {},
   "outputs": [
    {
     "name": "stdout",
     "output_type": "stream",
     "text": [
      "(2, 8)\n",
      "varianza es : \n",
      "0     0.5\n",
      "1     0.0\n",
      "2    40.5\n",
      "3    72.0\n",
      "4     2.0\n",
      "5    12.5\n",
      "6     4.5\n",
      "7    98.0\n",
      "dtype: float64\n",
      "covarianza es : \n",
      "     0    1     2     3     4     5     6     7\n",
      "0  0.5  0.0  -4.5  -6.0   1.0  -2.5   1.5   7.0\n",
      "1  0.0  0.0   0.0   0.0   0.0   0.0   0.0   0.0\n",
      "2 -4.5  0.0  40.5  54.0  -9.0  22.5 -13.5 -63.0\n",
      "3 -6.0  0.0  54.0  72.0 -12.0  30.0 -18.0 -84.0\n",
      "4  1.0  0.0  -9.0 -12.0   2.0  -5.0   3.0  14.0\n",
      "5 -2.5  0.0  22.5  30.0  -5.0  12.5  -7.5 -35.0\n",
      "6  1.5  0.0 -13.5 -18.0   3.0  -7.5   4.5  21.0\n",
      "7  7.0  0.0 -63.0 -84.0  14.0 -35.0  21.0  98.0\n"
     ]
    }
   ],
   "source": [
    "#Varianza y covarianza de la matriz\n",
    "print(datos.shape)\n",
    "datos.var()\n",
    "var = datos.var()\n",
    "print('varianza es : \\n'+ str(var))\n",
    "\n",
    "cov = datos.cov()\n",
    "\n",
    "print('covarianza es : \\n' + str(cov))\n",
    "\n"
   ]
  },
  {
   "cell_type": "markdown",
   "metadata": {},
   "source": [
    "### Valores propios"
   ]
  },
  {
   "cell_type": "code",
   "execution_count": 66,
   "metadata": {},
   "outputs": [
    {
     "data": {
      "text/plain": [
       "array([-2.84217094e-14,  2.30000000e+02,  1.21984243e-14, -1.40676698e-30,\n",
       "        6.48494069e-33,  1.82293076e-30,  2.09118226e-32,  0.00000000e+00])"
      ]
     },
     "execution_count": 66,
     "metadata": {},
     "output_type": "execute_result"
    }
   ],
   "source": [
    "#Valores propios\n",
    "np.linalg.eigvals(cov)"
   ]
  },
  {
   "cell_type": "markdown",
   "metadata": {},
   "source": [
    "### Vectores propios"
   ]
  },
  {
   "cell_type": "code",
   "execution_count": 67,
   "metadata": {},
   "outputs": [
    {
     "name": "stdout",
     "output_type": "stream",
     "text": [
      "[[-9.98912452e-01  4.66252404e-02  5.99582155e-03  3.79517728e-18\n",
      "   1.82319353e-18  2.39325276e-18 -4.16725305e-19  0.00000000e+00]\n",
      " [ 0.00000000e+00  0.00000000e+00  0.00000000e+00  0.00000000e+00\n",
      "   0.00000000e+00  0.00000000e+00  0.00000000e+00  1.00000000e+00]\n",
      " [-1.95865187e-02 -4.19627164e-01  1.54438220e-02  3.54626789e-01\n",
      "  -4.99578231e-02 -7.43685665e-01  8.29460290e-02  0.00000000e+00]\n",
      " [-2.61153582e-02 -5.59502885e-01  5.41684497e-01  9.44673647e-02\n",
      "  -2.71922978e-01  6.15369539e-01  2.92685558e-01  0.00000000e+00]\n",
      " [ 4.35255970e-03  9.32504808e-02  3.99924341e-02 -1.10336649e-01\n",
      "  -1.69685416e-01  9.26249945e-02  4.86974565e-01  0.00000000e+00]\n",
      " [-1.08813993e-02 -2.33126202e-01  4.86248241e-01 -9.23354659e-01\n",
      "   1.11035358e-01 -1.91896577e-01 -1.77392516e-01  0.00000000e+00]\n",
      " [ 6.52883956e-03  1.39875721e-01 -1.35421124e-01 -2.36168412e-02\n",
      "  -9.39382839e-01 -1.51156461e-01  7.99276416e-01  0.00000000e+00]\n",
      " [ 3.04679179e-02  6.52753366e-01  6.70766589e-01  5.10315136e-17\n",
      "  -1.55240884e-17 -1.33876453e-16  1.18351428e-17  0.00000000e+00]]\n"
     ]
    }
   ],
   "source": [
    "valores , vectord = np.linalg.eig(cov)\n",
    "\n",
    "print(vectord)"
   ]
  },
  {
   "cell_type": "code",
   "execution_count": 79,
   "metadata": {},
   "outputs": [
    {
     "data": {
      "text/plain": [
       "[<matplotlib.lines.Line2D at 0x288d106d0>]"
      ]
     },
     "execution_count": 79,
     "metadata": {},
     "output_type": "execute_result"
    },
    {
     "data": {
      "image/png": "[encoded data removed]",
      "text/plain": [
       "<Figure size 432x288 with 1 Axes>"
      ]
     },
     "metadata": {
      "needs_background": "light"
     },
     "output_type": "display_data"
    }
   ],
   "source": [
    "plt.pyplot.plot(valores)"
   ]
  }
 ],
 "metadata": {
  "interpreter": {
   "hash": "aee8b7b246df8f9039afb4144a1f6fd8d2ca17a180786b69acc140d282b71a49"
  },
  "kernelspec": {
   "display_name": "Python 3.10.4 64-bit",
   "language": "python",
   "name": "python3"
  },
  "language_info": {
   "codemirror_mode": {
    "name": "ipython",
    "version": 3
   },
   "file_extension": ".py",
   "mimetype": "text/x-python",
   "name": "python",
   "nbconvert_exporter": "python",
   "pygments_lexer": "ipython3",
   "version": "3.10.4"
  },
  "orig_nbformat": 4
 },
 "nbformat": 4,
 "nbformat_minor": 2
}
