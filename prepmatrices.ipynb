{
 "cells": [
  {
   "cell_type": "markdown",
   "metadata": {},
   "source": [
    "### Matriz varianza y covariante"
   ]
  },
  {
   "cell_type": "code",
   "execution_count": 19,
   "metadata": {},
   "outputs": [],
   "source": [
    "import numpy as np"
   ]
  },
  {
   "cell_type": "code",
   "execution_count": 32,
   "metadata": {},
   "outputs": [
    {
     "name": "stdout",
     "output_type": "stream",
     "text": [
      "[[0.54694056 0.22437047 0.47767357]\n",
      " [0.82926391 0.42874156 0.58156064]\n",
      " [0.99544406 0.5803357  0.19692609]\n",
      " [0.66416719 0.98330059 0.20652921]]\n"
     ]
    },
    {
     "data": {
      "text/plain": [
       "numpy.ndarray"
      ]
     },
     "execution_count": 32,
     "metadata": {},
     "output_type": "execute_result"
    }
   ],
   "source": [
    "#Arreglo\n",
    "datos = np.array(np.random.random((4, 3)))\n",
    "\n",
    "print(datos)\n",
    "type(datos)"
   ]
  },
  {
   "cell_type": "code",
   "execution_count": 40,
   "metadata": {},
   "outputs": [
    {
     "name": "stdout",
     "output_type": "stream",
     "text": [
      "Varianza es 0.07055114207403375\n",
      "covarianza es [[ 0.02883531  0.03084396  0.01534894 -0.04466705]\n",
      " [ 0.03084396  0.04085479  0.05091056 -0.02219452]\n",
      " [ 0.01534894  0.05091056  0.15949147  0.08846314]\n",
      " [-0.04466705 -0.02219452  0.08846314  0.15244207]]\n"
     ]
    }
   ],
   "source": [
    "datos.shape\n",
    "covarianza = np.cov(datos)\n",
    "varianza = np.var(datos)\n",
    "\n",
    "print('Varianza es ' + str(varianza))\n",
    "\n",
    "print('covarianza es ' + str(covarianza))\n",
    "\n"
   ]
  }
 ],
 "metadata": {
  "interpreter": {
   "hash": "aee8b7b246df8f9039afb4144a1f6fd8d2ca17a180786b69acc140d282b71a49"
  },
  "kernelspec": {
   "display_name": "Python 3.10.4 64-bit",
   "language": "python",
   "name": "python3"
  },
  "language_info": {
   "codemirror_mode": {
    "name": "ipython",
    "version": 3
   },
   "file_extension": ".py",
   "mimetype": "text/x-python",
   "name": "python",
   "nbconvert_exporter": "python",
   "pygments_lexer": "ipython3",
   "version": "3.10.4"
  },
  "orig_nbformat": 4
 },
 "nbformat": 4,
 "nbformat_minor": 2
}
